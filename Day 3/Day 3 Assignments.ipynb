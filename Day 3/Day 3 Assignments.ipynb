{
 "cells": [
  {
   "cell_type": "markdown",
   "metadata": {},
   "source": [
    "## Program to subtract two complex numbers"
   ]
  },
  {
   "cell_type": "code",
   "execution_count": 22,
   "metadata": {},
   "outputs": [
    {
     "name": "stdout",
     "output_type": "stream",
     "text": [
      "Enter the 1st complex number:5+5j\n",
      "Enter the 2nd complex number:6+9j\n",
      "Substraction of a and b is: (-1-4j)\n"
     ]
    }
   ],
   "source": [
    "a = complex(input (\"Enter the 1st complex number:\"))\n",
    "b = complex(input (\"Enter the 2nd complex number:\"))\n",
    "c = a - b\n",
    "\n",
    "print (\"Substraction of a and b is:\", c)"
   ]
  },
  {
   "cell_type": "markdown",
   "metadata": {},
   "source": [
    "## Program to find the fourth root of a number"
   ]
  },
  {
   "cell_type": "code",
   "execution_count": 27,
   "metadata": {},
   "outputs": [
    {
     "name": "stdout",
     "output_type": "stream",
     "text": [
      "Fourth square root of 16 is: 2.0\n"
     ]
    }
   ],
   "source": [
    "a = 16\n",
    "x = a**(1/4)\n",
    "\n",
    "print (\"Fourth square root of\", a ,\"is:\", x)"
   ]
  },
  {
   "cell_type": "markdown",
   "metadata": {},
   "source": [
    "## Program to swap two numbers in Python with the help of a temporary variable"
   ]
  },
  {
   "cell_type": "code",
   "execution_count": 10,
   "metadata": {},
   "outputs": [
    {
     "name": "stdout",
     "output_type": "stream",
     "text": [
      "value of a after swapping is: 5.5\n",
      "value of b after swapping is: 2.0\n"
     ]
    }
   ],
   "source": [
    "a = 2.0\n",
    "b = 5.5\n",
    "\n",
    "swapped_number = a\n",
    "a = b\n",
    "b = swapped_number\n",
    "\n",
    "print(\"value of a after swapping is:\", a)\n",
    "print(\"value of b after swapping is:\", b)"
   ]
  },
  {
   "cell_type": "markdown",
   "metadata": {},
   "source": [
    "## Program to swap two numbers in Python without using a temporary variable"
   ]
  },
  {
   "cell_type": "code",
   "execution_count": 11,
   "metadata": {},
   "outputs": [
    {
     "name": "stdout",
     "output_type": "stream",
     "text": [
      "value of a after swapping is: Upgrade\n",
      "value of b after swapping is: Lets\n"
     ]
    }
   ],
   "source": [
    "a = \"Lets\"\n",
    "b = \"Upgrade\"\n",
    "\n",
    "a, b = b, a\n",
    "\n",
    "print(\"value of a after swapping is:\", a)\n",
    "print(\"value of b after swapping is:\", b)"
   ]
  },
  {
   "cell_type": "markdown",
   "metadata": {},
   "source": [
    "## Program to convert fahrenheit to kelvin and celsius both"
   ]
  },
  {
   "cell_type": "code",
   "execution_count": 31,
   "metadata": {},
   "outputs": [
    {
     "name": "stdout",
     "output_type": "stream",
     "text": [
      "Enter the temperature in fahrenheit:36\n",
      "Value in kelvin is: 275.72222222222223\n",
      "Value is celcius is: 2.2222222222222223\n"
     ]
    }
   ],
   "source": [
    "far = float (input (\"Enter the temperature in fahrenheit:\"))\n",
    "\n",
    "kel = 273.5 + ((far - 32.0) * (5.0/9.0))\n",
    "\n",
    "cel = ((far - 32.0) * (5.0/9.0))\n",
    "\n",
    "print (\"Value in kelvin is:\", kel)\n",
    "print (\"Value is celcius is:\", cel)\n"
   ]
  },
  {
   "cell_type": "markdown",
   "metadata": {},
   "source": [
    "## Program to demonstrate all the available data types in Python"
   ]
  },
  {
   "cell_type": "code",
   "execution_count": 36,
   "metadata": {},
   "outputs": [
    {
     "name": "stdout",
     "output_type": "stream",
     "text": [
      "<class 'int'>\n"
     ]
    }
   ],
   "source": [
    "num = 5\n",
    "print (type(num))"
   ]
  },
  {
   "cell_type": "code",
   "execution_count": 46,
   "metadata": {},
   "outputs": [
    {
     "name": "stdout",
     "output_type": "stream",
     "text": [
      "<class 'float'>\n",
      "<class 'complex'>\n"
     ]
    }
   ],
   "source": [
    "num = 2.56\n",
    "print (type (num))\n",
    "\n",
    "num = 5+6j\n",
    "print (type (num))"
   ]
  },
  {
   "cell_type": "code",
   "execution_count": 42,
   "metadata": {},
   "outputs": [
    {
     "name": "stdout",
     "output_type": "stream",
     "text": [
      "<class 'str'>\n"
     ]
    }
   ],
   "source": [
    "st1 = \"LetsUpgrade\"\n",
    "print (type(st1))"
   ]
  },
  {
   "cell_type": "code",
   "execution_count": 41,
   "metadata": {},
   "outputs": [
    {
     "name": "stdout",
     "output_type": "stream",
     "text": [
      "<class 'list'>\n"
     ]
    }
   ],
   "source": [
    "li = [6, 5, 8, 7, 4, \"Hello\", 5.5]\n",
    "print (type(li))"
   ]
  },
  {
   "cell_type": "code",
   "execution_count": 43,
   "metadata": {},
   "outputs": [
    {
     "name": "stdout",
     "output_type": "stream",
     "text": [
      "<class 'set'>\n"
     ]
    }
   ],
   "source": [
    "st = {4,\"World\", 5.97}\n",
    "print (type(st))"
   ]
  },
  {
   "cell_type": "code",
   "execution_count": 44,
   "metadata": {},
   "outputs": [
    {
     "name": "stdout",
     "output_type": "stream",
     "text": [
      "<class 'tuple'>\n"
     ]
    }
   ],
   "source": [
    "tpl =(4, 9, \"Python\")\n",
    "print (type(tpl))"
   ]
  },
  {
   "cell_type": "code",
   "execution_count": 45,
   "metadata": {},
   "outputs": [
    {
     "name": "stdout",
     "output_type": "stream",
     "text": [
      "<class 'dict'>\n"
     ]
    }
   ],
   "source": [
    "dic = {\"value\": \"45\", \"number\": \"4\", \"subj\": \"Programming\"}\n",
    "print (type(dic))"
   ]
  },
  {
   "cell_type": "markdown",
   "metadata": {},
   "source": [
    "## Instructions on how to create Github profile and upload Githubs Assignment link"
   ]
  },
  {
   "cell_type": "raw",
   "metadata": {},
   "source": [
    "1. Register on Github.com and create a profile"
   ]
  },
  {
   "cell_type": "raw",
   "metadata": {},
   "source": [
    "2. Login into the account and create a github public repo"
   ]
  },
  {
   "cell_type": "raw",
   "metadata": {},
   "source": [
    "3. Name the repo as LetsUpgrade AI/ML"
   ]
  },
  {
   "cell_type": "raw",
   "metadata": {},
   "source": [
    "4. Upload the files/solution in the repo in day wise manner"
   ]
  },
  {
   "cell_type": "raw",
   "metadata": {},
   "source": [
    "5. Copy the URL of the Folder attached from repo and paste in the Assignment Submission Form (Google Form)"
   ]
  },
  {
   "cell_type": "raw",
   "metadata": {},
   "source": [
    "6. Once the submission is successful, we will get confirmation email"
   ]
  }
 ],
 "metadata": {
  "kernelspec": {
   "display_name": "Python 3",
   "language": "python",
   "name": "python3"
  },
  "language_info": {
   "codemirror_mode": {
    "name": "ipython",
    "version": 3
   },
   "file_extension": ".py",
   "mimetype": "text/x-python",
   "name": "python",
   "nbconvert_exporter": "python",
   "pygments_lexer": "ipython3",
   "version": "3.7.4"
  }
 },
 "nbformat": 4,
 "nbformat_minor": 2
}
