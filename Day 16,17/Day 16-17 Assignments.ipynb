{
 "cells": [
  {
   "cell_type": "code",
   "execution_count": 41,
   "metadata": {},
   "outputs": [],
   "source": [
    "import numpy as np\n",
    "import pandas as pd\n",
    "import seaborn as sns\n",
    "import matplotlib.pyplot as plt\n",
    "import warnings\n",
    "warnings.filterwarnings('ignore')"
   ]
  },
  {
   "cell_type": "code",
   "execution_count": 42,
   "metadata": {},
   "outputs": [
    {
     "data": {
      "text/html": [
       "<div>\n",
       "<style scoped>\n",
       "    .dataframe tbody tr th:only-of-type {\n",
       "        vertical-align: middle;\n",
       "    }\n",
       "\n",
       "    .dataframe tbody tr th {\n",
       "        vertical-align: top;\n",
       "    }\n",
       "\n",
       "    .dataframe thead th {\n",
       "        text-align: right;\n",
       "    }\n",
       "</style>\n",
       "<table border=\"1\" class=\"dataframe\">\n",
       "  <thead>\n",
       "    <tr style=\"text-align: right;\">\n",
       "      <th></th>\n",
       "      <th>title</th>\n",
       "      <th>year</th>\n",
       "      <th>name</th>\n",
       "      <th>type</th>\n",
       "      <th>character</th>\n",
       "      <th>n</th>\n",
       "    </tr>\n",
       "  </thead>\n",
       "  <tbody>\n",
       "    <tr>\n",
       "      <td>0</td>\n",
       "      <td>Closet Monster</td>\n",
       "      <td>2015</td>\n",
       "      <td>Buffy #1</td>\n",
       "      <td>actor</td>\n",
       "      <td>Buffy 4</td>\n",
       "      <td>31.0</td>\n",
       "    </tr>\n",
       "    <tr>\n",
       "      <td>1</td>\n",
       "      <td>Suuri illusioni</td>\n",
       "      <td>1985</td>\n",
       "      <td>Homo $</td>\n",
       "      <td>actor</td>\n",
       "      <td>Guests</td>\n",
       "      <td>22.0</td>\n",
       "    </tr>\n",
       "    <tr>\n",
       "      <td>2</td>\n",
       "      <td>Battle of the Sexes</td>\n",
       "      <td>2017</td>\n",
       "      <td>$hutter</td>\n",
       "      <td>actor</td>\n",
       "      <td>Bobby Riggs Fan</td>\n",
       "      <td>10.0</td>\n",
       "    </tr>\n",
       "    <tr>\n",
       "      <td>3</td>\n",
       "      <td>Secret in Their Eyes</td>\n",
       "      <td>2015</td>\n",
       "      <td>$hutter</td>\n",
       "      <td>actor</td>\n",
       "      <td>2002 Dodger Fan</td>\n",
       "      <td>NaN</td>\n",
       "    </tr>\n",
       "    <tr>\n",
       "      <td>4</td>\n",
       "      <td>Steve Jobs</td>\n",
       "      <td>2015</td>\n",
       "      <td>$hutter</td>\n",
       "      <td>actor</td>\n",
       "      <td>1988 Opera House Patron</td>\n",
       "      <td>NaN</td>\n",
       "    </tr>\n",
       "  </tbody>\n",
       "</table>\n",
       "</div>"
      ],
      "text/plain": [
       "                  title  year      name   type                character     n\n",
       "0        Closet Monster  2015  Buffy #1  actor                  Buffy 4  31.0\n",
       "1       Suuri illusioni  1985    Homo $  actor                   Guests  22.0\n",
       "2   Battle of the Sexes  2017   $hutter  actor          Bobby Riggs Fan  10.0\n",
       "3  Secret in Their Eyes  2015   $hutter  actor          2002 Dodger Fan   NaN\n",
       "4            Steve Jobs  2015   $hutter  actor  1988 Opera House Patron   NaN"
      ]
     },
     "execution_count": 42,
     "metadata": {},
     "output_type": "execute_result"
    }
   ],
   "source": [
    "titles = pd.read_csv(\"cast.csv\")\n",
    "titles.head()"
   ]
  },
  {
   "cell_type": "code",
   "execution_count": 43,
   "metadata": {},
   "outputs": [
    {
     "data": {
      "text/plain": [
       "(3786176, 6)"
      ]
     },
     "execution_count": 43,
     "metadata": {},
     "output_type": "execute_result"
    }
   ],
   "source": [
    "titles.shape"
   ]
  },
  {
   "cell_type": "code",
   "execution_count": 44,
   "metadata": {},
   "outputs": [
    {
     "data": {
      "text/plain": [
       "title              0\n",
       "year               0\n",
       "name               0\n",
       "type               0\n",
       "character          0\n",
       "n            1458573\n",
       "dtype: int64"
      ]
     },
     "execution_count": 44,
     "metadata": {},
     "output_type": "execute_result"
    }
   ],
   "source": [
    "titles.isna().sum()"
   ]
  },
  {
   "cell_type": "markdown",
   "metadata": {},
   "source": [
    "## How many movies are listed in the titles dataframe?"
   ]
  },
  {
   "cell_type": "code",
   "execution_count": 45,
   "metadata": {},
   "outputs": [
    {
     "name": "stdout",
     "output_type": "stream",
     "text": [
      "There are 3786176 movies present in titles dataset\n"
     ]
    }
   ],
   "source": [
    "movies_count = titles['title'].count()\n",
    "print('There are {} movies present in titles dataset'.format(movies_count))"
   ]
  },
  {
   "cell_type": "markdown",
   "metadata": {},
   "source": [
    "## What are the earliest two films listed in the titles dataframe?"
   ]
  },
  {
   "cell_type": "code",
   "execution_count": 46,
   "metadata": {},
   "outputs": [
    {
     "name": "stdout",
     "output_type": "stream",
     "text": [
      "Earliest two films released are:\n",
      "\n",
      "                     title  year\n",
      "193222          Miss Jerry  1894\n",
      "51388   The Startled Lover  1898\n"
     ]
    }
   ],
   "source": [
    "#Load the dataset\n",
    "names = pd.read_csv(\"titles.csv\")\n",
    "\n",
    "#sort the dataframe by year\n",
    "result = names.sort_values('year', ascending=True)\n",
    "\n",
    "#print earliest two films released \n",
    "print(\"Earliest two films released are:\\n\")\n",
    "print(result.head(2))"
   ]
  },
  {
   "cell_type": "markdown",
   "metadata": {},
   "source": [
    "## How many movies have the title \"Hamlet\"?"
   ]
  },
  {
   "cell_type": "code",
   "execution_count": 47,
   "metadata": {},
   "outputs": [
    {
     "name": "stdout",
     "output_type": "stream",
     "text": [
      "The are 342 movies with title hamlet\n"
     ]
    }
   ],
   "source": [
    "#Lets create a df named 'hamlet_title' that contains the data with movie title 'Hamlet'\n",
    "hamlet_title = titles[titles['title'] == 'Hamlet']\n",
    "\n",
    "#print the length\n",
    "print('The are {} movies with title hamlet'.format(hamlet_title.shape[0]))"
   ]
  },
  {
   "cell_type": "markdown",
   "metadata": {},
   "source": [
    "## How many movies are titled \"North by Northwest\"?"
   ]
  },
  {
   "cell_type": "code",
   "execution_count": 48,
   "metadata": {},
   "outputs": [
    {
     "name": "stdout",
     "output_type": "stream",
     "text": [
      "The are 116 movies with title North by Northwest\n"
     ]
    }
   ],
   "source": [
    "#Lets create a df named 'north' that contains the data with movie title 'Hamlet'\n",
    "north = titles[titles['title'] == 'North by Northwest']\n",
    "\n",
    "#print the length\n",
    "print('The are {} movies with title North by Northwest'.format(north.shape[0]))"
   ]
  },
  {
   "cell_type": "markdown",
   "metadata": {},
   "source": [
    "## When was the first movie titled \"Hamlet\" made?"
   ]
  },
  {
   "cell_type": "code",
   "execution_count": 49,
   "metadata": {},
   "outputs": [
    {
     "name": "stdout",
     "output_type": "stream",
     "text": [
      "The first movie titled Hamlet was made on:\n",
      "\n",
      "          title  year\n",
      "1602320  Hamlet  1910\n"
     ]
    }
   ],
   "source": [
    "#Lets create a small df named new_df that consist of title of movie and year which the movie released\n",
    "new_df = titles[['title','year']]\n",
    "\n",
    "#Capturing the result by filtering the movie title 'Hamlet' and \n",
    "#sorting according to year and printing 1st value using head function\n",
    "result = new_df[new_df['title'] == 'Hamlet'].sort_values('year', ascending=True).head(1)\n",
    "print(\"The first movie titled Hamlet was made on:\\n\")\n",
    "print(result.head(1))"
   ]
  },
  {
   "cell_type": "markdown",
   "metadata": {},
   "source": [
    "## List all of the \"Treasure Island\" movies from earliest to most recent"
   ]
  },
  {
   "cell_type": "code",
   "execution_count": 50,
   "metadata": {},
   "outputs": [
    {
     "name": "stdout",
     "output_type": "stream",
     "text": [
      "Below is the list of movie with title Treasure Island from earliest to most recent:\n",
      "\n",
      "                   title  year\n",
      "860800   Treasure Island  1918\n",
      "871803   Treasure Island  1918\n",
      "942632   Treasure Island  1918\n",
      "3450730  Treasure Island  1918\n",
      "1778878  Treasure Island  1918\n",
      "...                  ...   ...\n",
      "2511526  Treasure Island  1999\n",
      "1698413  Treasure Island  1999\n",
      "1426457  Treasure Island  1999\n",
      "3340561  Treasure Island  1999\n",
      "319551   Treasure Island  1999\n",
      "\n",
      "[190 rows x 2 columns]\n"
     ]
    }
   ],
   "source": [
    "#Lets create a small df named my_df that consist of title of movie and year which the movie released\n",
    "my_df = titles[['title','year']]\n",
    "\n",
    "#Capturing the result by filtering the movie title 'Hamlet' and \n",
    "#sorting according to earliest to most recent and printing...\n",
    "result = my_df[new_df['title'] == 'Treasure Island'].sort_values('year', ascending=True)\n",
    "print(\"Below is the list of movie with title Treasure Island from earliest to most recent:\\n\")\n",
    "print(result)"
   ]
  },
  {
   "cell_type": "markdown",
   "metadata": {},
   "source": [
    "## How many movies were made in the year 1950?"
   ]
  },
  {
   "cell_type": "code",
   "execution_count": 51,
   "metadata": {},
   "outputs": [
    {
     "name": "stdout",
     "output_type": "stream",
     "text": [
      "Number of movies that were made in year 1950 is:  22397\n"
     ]
    }
   ],
   "source": [
    "#Lets create a small df named required_df that consist of movies released in year 1950\n",
    "required_df = titles[titles['year'] == 1950]\n",
    "\n",
    "#printing the result using shape method, value zero return number of rows\n",
    "print(\"Number of movies that were made in year 1950 is: \", required_df.shape[0])"
   ]
  },
  {
   "cell_type": "markdown",
   "metadata": {},
   "source": [
    "## How many movies were made in the year 1960?"
   ]
  },
  {
   "cell_type": "code",
   "execution_count": 52,
   "metadata": {},
   "outputs": [
    {
     "name": "stdout",
     "output_type": "stream",
     "text": [
      "Number of movies that were made in year 1960 is:  19164\n"
     ]
    }
   ],
   "source": [
    "#Lets create a small df named required_df that consist of movies released in year 1960\n",
    "required_df = titles[titles['year'] == 1960]\n",
    "\n",
    "#printing the result using shape method, value zero return number of rows\n",
    "print(\"Number of movies that were made in year 1960 is: \", required_df.shape[0])"
   ]
  },
  {
   "cell_type": "markdown",
   "metadata": {},
   "source": [
    "## How many movies were made from 1950 through 1959?"
   ]
  },
  {
   "cell_type": "code",
   "execution_count": 53,
   "metadata": {},
   "outputs": [
    {
     "name": "stdout",
     "output_type": "stream",
     "text": [
      "The number of movies that were made between year 1950 to year 1959 is:  215471\n"
     ]
    }
   ],
   "source": [
    "#Lets create a small df named required_df that consist of movie titles and years released\n",
    "df_range = titles[['title','year']]\n",
    "\n",
    "#lets store the dataframe that consists of titles that were made in between 1950 to 1959\n",
    "result = df_range[df_range['year'].between(1950,1959)]\n",
    "\n",
    "#sort the result dataframe by year-wise\n",
    "result2 = result.sort_values('year', ascending=True)\n",
    "\n",
    "#print the no. of titles by shape method\n",
    "print(\"The number of movies that were made between year 1950 to year 1959 is: \",result2.shape[0])"
   ]
  },
  {
   "cell_type": "markdown",
   "metadata": {},
   "source": [
    "## In what years has a movie titled \"Batman\" been released?"
   ]
  },
  {
   "cell_type": "code",
   "execution_count": 54,
   "metadata": {},
   "outputs": [
    {
     "name": "stdout",
     "output_type": "stream",
     "text": [
      "99564      1943\n",
      "100080     1943\n",
      "118792     1989\n",
      "124426     1989\n",
      "155945     1989\n",
      "           ... \n",
      "3031640    1989\n",
      "3402807    1943\n",
      "3499598    1989\n",
      "3501652    1989\n",
      "3513305    1989\n",
      "Name: year, Length: 123, dtype: int64\n"
     ]
    }
   ],
   "source": [
    "#Lets create a small df named required_df that consist of movie titles and years released\n",
    "h = titles[['title','year']]\n",
    "\n",
    "#Filter the above dataframe with movie titled 'Batman'\n",
    "result = h[h['title'] == 'Batman']\n",
    "\n",
    "#Print the years in which batman got released\n",
    "print(result['year'])"
   ]
  },
  {
   "cell_type": "markdown",
   "metadata": {},
   "source": [
    "## How many roles were there in the movie \"Inception\"?"
   ]
  },
  {
   "cell_type": "code",
   "execution_count": 55,
   "metadata": {},
   "outputs": [
    {
     "name": "stdout",
     "output_type": "stream",
     "text": [
      "Total number of characters in movie inception:  56\n"
     ]
    }
   ],
   "source": [
    "#Lets create a dataframe with having inception movie\n",
    "inceptionMovies  = titles[titles['title'] == 'Inception']\n",
    "\n",
    "#get the characters count using unique() function\n",
    "allCharacters = inceptionMovies.character.unique()\n",
    "\n",
    "#Printing the output\n",
    "print(\"Total number of characters in movie inception: \", len(allCharacters))"
   ]
  },
  {
   "cell_type": "markdown",
   "metadata": {},
   "source": [
    "## How many roles in the movie \"Inception\" are NOT ranked by an \"n\" value?"
   ]
  },
  {
   "cell_type": "code",
   "execution_count": 56,
   "metadata": {},
   "outputs": [
    {
     "name": "stdout",
     "output_type": "stream",
     "text": [
      "The number of roles did not receive a n value in the movie inception are:\n",
      "\n",
      "21\n"
     ]
    }
   ],
   "source": [
    "#Creating a dataframe that is filtered with inception\n",
    "inceptionMovie = titles[titles['title'] == 'Inception']\n",
    "\n",
    "#Compute the NaN values which is not ranked category in this above dataabsframe\n",
    "notRanked = inceptionMovie[inceptionMovie['n'].isnull()]\n",
    "\n",
    "#print the output\n",
    "print(\"The number of roles did not receive a n value in the movie inception are:\\n\")\n",
    "print(len(notRanked['character'].unique()))"
   ]
  },
  {
   "cell_type": "markdown",
   "metadata": {},
   "source": [
    "## 13  But how many roles in the movie \"Inception\" did receive an \"n\" value?"
   ]
  },
  {
   "cell_type": "code",
   "execution_count": 57,
   "metadata": {},
   "outputs": [
    {
     "name": "stdout",
     "output_type": "stream",
     "text": [
      "The number of roles did receive a n value in the movie inception are:\n",
      "\n",
      "36\n"
     ]
    }
   ],
   "source": [
    "#Creating a dataframe that is filtered with inception\n",
    "inceptionMovie = titles[titles['title'] == 'Inception']\n",
    "\n",
    "#Compute the non NAN values which is  ranked category in this above dataframe\n",
    "Ranked = inceptionMovie[inceptionMovie['n'].notna()]\n",
    "\n",
    "#print the output\n",
    "print(\"The number of roles did receive a n value in the movie inception are:\\n\")\n",
    "print(len(Ranked['character'].unique()))"
   ]
  },
  {
   "cell_type": "markdown",
   "metadata": {},
   "source": [
    "## 14  Display the cast of \"North by Northwest\" in their correct \"n\"-value order, ignoring roles that did not earn a numeric \"n\" value"
   ]
  },
  {
   "cell_type": "code",
   "execution_count": 58,
   "metadata": {},
   "outputs": [
    {
     "name": "stdout",
     "output_type": "stream",
     "text": [
      "                        name    n\n",
      "871426            Cary Grant  1.0\n",
      "3518333      Eva Marie Saint  2.0\n",
      "1457165          James Mason  3.0\n",
      "3157232  Jessie Royce Landis  4.0\n",
      "356707        Leo G. Carroll  5.0\n",
      "...                      ...  ...\n",
      "3441077      Maudie Prickett  NaN\n",
      "3577128          Doris Singh  NaN\n",
      "3599912         Helen Spring  NaN\n",
      "3739133        Susan Whitney  NaN\n",
      "3751311       Paula Winslowe  NaN\n",
      "\n",
      "[116 rows x 2 columns]\n"
     ]
    }
   ],
   "source": [
    "#Filter the original dataset with 3 features title, n and character\n",
    "required = titles[['title','n','character', 'name']]\n",
    "\n",
    "#filter again with movie title north by northwest\n",
    "required_new = required[required['title'] == 'North by Northwest']\n",
    "\n",
    "#Drop the duplicates to not count the repeated values\n",
    "required_new.drop_duplicates(keep='first', inplace=True)\n",
    "\n",
    "#sort the result with n value\n",
    "result = required_new.sort_values('n', ascending=True)\n",
    "\n",
    "#print the cast also called names ordered by n in the movie north by northwest\n",
    "print(result[['name','n']])"
   ]
  },
  {
   "cell_type": "markdown",
   "metadata": {},
   "source": [
    "## 15  Display the entire cast, in \"n\"-order, of the 1972 film \"Sleuth\"."
   ]
  },
  {
   "cell_type": "code",
   "execution_count": 59,
   "metadata": {},
   "outputs": [
    {
     "name": "stdout",
     "output_type": "stream",
     "text": [
      "                       name    n\n",
      "1705394    Laurence Olivier  1.0\n",
      "326773        Michael Caine  2.0\n",
      "373876       Alec Cawthorne  3.0\n",
      "1465483  John (II) Matthews  4.0\n",
      "2724553  Eve (III) Channing  5.0\n",
      "1448690        Teddy Martin  6.0\n"
     ]
    }
   ],
   "source": [
    "#Creating a first filter from original dataset where taking title, n, name and year\n",
    "filter_1 = titles[['title','n','name','year']]\n",
    "\n",
    "#Creating a second filter from filter_1 dataset where taking title as sleuth\n",
    "filter_2 = filter_1[filter_1['title'] == 'Sleuth']\n",
    "\n",
    "#Creating a third filter from filter_2 dataset where taking year in which sleuth was released as 1972\n",
    "filter_3 = filter_2[filter_2['year']==1972]\n",
    "\n",
    "#Sorting the result by n value\n",
    "filter_4 = filter_3.sort_values('n', ascending=True)\n",
    "\n",
    "#Displaying the cast of 1972 sleuth film with n-value ordered\n",
    "print(filter_4[['name','n']])"
   ]
  },
  {
   "cell_type": "markdown",
   "metadata": {},
   "source": [
    "## 16  Now display the entire cast, in \"n\"-order, of the 2007 version of \"Sleuth\"."
   ]
  },
  {
   "cell_type": "code",
   "execution_count": 60,
   "metadata": {},
   "outputs": [
    {
     "name": "stdout",
     "output_type": "stream",
     "text": [
      "                        name    n\n",
      "326774         Michael Caine  1.0\n",
      "1293634             Jude Law  2.0\n",
      "1805907        Harold Pinter  3.0\n",
      "260242       Kenneth Branagh  NaN\n",
      "373877   Alec (II) Cawthorne  NaN\n",
      "2724552    Eve (II) Channing  NaN\n",
      "3370424    Carmel O'Sullivan  NaN\n"
     ]
    }
   ],
   "source": [
    "#Creating a first filter from original dataset where taking title, n, name and year\n",
    "filter_1 = titles[['title','n','name','year']]\n",
    "\n",
    "#Creating a second filter from filter_1 dataset where taking title as sleuth\n",
    "filter_2 = filter_1[filter_1['title'] == 'Sleuth']\n",
    "\n",
    "#Creating a third filter from filter_2 dataset where taking year in which sleuth was released as 2007\n",
    "filter_3 = filter_2[filter_2['year']==2007]\n",
    "\n",
    "#Sorting the result by n value\n",
    "filter_4 = filter_3.sort_values('n', ascending=True)\n",
    "\n",
    "#Displaying the cast of 2007 sleuth film with n-value ordered\n",
    "print(filter_4[['name','n']])"
   ]
  },
  {
   "cell_type": "markdown",
   "metadata": {},
   "source": [
    "## 17  How many roles were credited in the silent 1921 version of Hamlet?"
   ]
  },
  {
   "cell_type": "code",
   "execution_count": 61,
   "metadata": {},
   "outputs": [
    {
     "name": "stdout",
     "output_type": "stream",
     "text": [
      "The number of roles that were credited in the silent 1921 version of Hamlet film is: \n",
      "9\n"
     ]
    }
   ],
   "source": [
    "#Creating a first filter from original dataset where taking title, n, character and year\n",
    "filter_one = titles[['title','year','character','n']]\n",
    "\n",
    "#Creating a second filter from filter_1 dataset where taking title as hamlet\n",
    "filter_two = filter_one[filter_one['title'] == 'Hamlet']\n",
    "\n",
    "#Creating a third filter from filter_2 dataset where taking year in which sleuth was released as 1921\n",
    "filter_three = filter_two[filter_two['year'] == 1921]\n",
    "\n",
    "#creating a fourth filter by taking notna values of the n column \n",
    "filter_four = filter_three[filter_three['n'].notna()]\n",
    "\n",
    "#printing the chararcters count who got credits in 1921 hamlet film\n",
    "print(\"The number of roles that were credited in the silent 1921 version of Hamlet film is: \")\n",
    "print(len(filter_four['character'].unique()))"
   ]
  },
  {
   "cell_type": "markdown",
   "metadata": {},
   "source": [
    "## 18  How many roles were credited in Branagh’s 1996 Hamlet?"
   ]
  },
  {
   "cell_type": "code",
   "execution_count": 62,
   "metadata": {},
   "outputs": [
    {
     "name": "stdout",
     "output_type": "stream",
     "text": [
      "The number of roles that were credited in the branagh's 1996 Hamlet film is: \n",
      "1\n"
     ]
    }
   ],
   "source": [
    "#Creating a first filter from original dataset where taking title, n, name, character and year\n",
    "filter_one = titles[['title','year','name','n','character']]\n",
    "\n",
    "#Creating a second filter from filter_1 dataset where taking title as hamlet\n",
    "filter_two = filter_one[filter_one['title'] == 'Hamlet']\n",
    "\n",
    "#Creating a third filter from filter_2 dataset where taking year in which sleuth was released as 1921\n",
    "filter_three = filter_two[filter_two['year'] == 1996]\n",
    "\n",
    "\n",
    "# #creating a fourth filter by taking character name is branagh \n",
    "filter_four = filter_three[filter_three['name'] == 'Kenneth Branagh']\n",
    "filter_four\n",
    "\n",
    "# #printing the chararcters count who got credits in 1921 hamlet film\n",
    "print(\"The number of roles that were credited in the branagh's 1996 Hamlet film is: \")\n",
    "print(len(filter_four['character']))"
   ]
  },
  {
   "cell_type": "markdown",
   "metadata": {},
   "source": [
    "## 19  How many \"Hamlet\" roles have been listed in all film credits through history?"
   ]
  },
  {
   "cell_type": "code",
   "execution_count": 63,
   "metadata": {},
   "outputs": [
    {
     "name": "stdout",
     "output_type": "stream",
     "text": [
      "Total roles that have been listed in all film credits history:\n",
      " 249\n"
     ]
    }
   ],
   "source": [
    "#Creating a first filter from original dataset where taking title, n, character\n",
    "filter_one = titles[['title','n','character']]\n",
    "\n",
    "#Creating a second filter from filter_1 dataset where taking title as hamlet\n",
    "filter_two = filter_one[filter_one['title'] == 'Hamlet']\n",
    "\n",
    "#Creating a third filter from filter_2 dataset where taking year in which sleuth was released as 1921\n",
    "filter_three = filter_two[filter_two['n'].notna()]\n",
    "\n",
    "\n",
    "#count the characters/roles appeared in hamlet movie\n",
    "print(\"Total roles that have been listed in all film credits history:\\n\",filter_three['character'].count())"
   ]
  },
  {
   "cell_type": "markdown",
   "metadata": {},
   "source": [
    "## 20  How many people have played an \"Ophelia\"?"
   ]
  },
  {
   "cell_type": "code",
   "execution_count": 64,
   "metadata": {},
   "outputs": [
    {
     "name": "stdout",
     "output_type": "stream",
     "text": [
      "No. of people who played role named ophelia is:  117\n"
     ]
    }
   ],
   "source": [
    "#Creating a first filter from original dataset where taking character, name \n",
    "filter_one = titles[['name','character']]\n",
    "\n",
    "#Creating a second filter from first filter where character is ophelia\n",
    "filter_two = filter_one[filter_one['character'] == 'Ophelia']\n",
    "\n",
    "#PRint the count of names who played the ophelia character\n",
    "print(\"No. of people who played role named ophelia is: \" , filter_two['name'].count())"
   ]
  },
  {
   "cell_type": "markdown",
   "metadata": {},
   "source": [
    "## 21  How many people have played a role called \"The Dude\"?"
   ]
  },
  {
   "cell_type": "code",
   "execution_count": 65,
   "metadata": {},
   "outputs": [
    {
     "name": "stdout",
     "output_type": "stream",
     "text": [
      "No. of people who played role named The Dude is:  19\n"
     ]
    }
   ],
   "source": [
    "#Creating a first filter from original dataset where taking character, name \n",
    "filter_one = titles[['name','character']]\n",
    "\n",
    "#Creating a second filter from first filter where character is the dude\n",
    "filter_two = filter_one[filter_one['character'] == 'The Dude']\n",
    "\n",
    "#PRint the count of names who played the ophelia character\n",
    "print(\"No. of people who played role named The Dude is: \" , filter_two['name'].count())"
   ]
  },
  {
   "cell_type": "markdown",
   "metadata": {},
   "source": [
    "## 22  How many people have played a role called \"The Stranger\"?"
   ]
  },
  {
   "cell_type": "code",
   "execution_count": 66,
   "metadata": {},
   "outputs": [
    {
     "name": "stdout",
     "output_type": "stream",
     "text": [
      "No. of people who played role named The Stranger is:  212\n"
     ]
    }
   ],
   "source": [
    "#Creating a first filter from original dataset where taking character, name \n",
    "filter_one = titles[['name','character']]\n",
    "\n",
    "#Creating a second filter from first filter where character is The stranger\n",
    "filter_two = filter_one[filter_one['character'] == 'The Stranger']\n",
    "\n",
    "#PRint the count of names who played the ophelia character\n",
    "print(\"No. of people who played role named The Stranger is: \" , filter_two['name'].count())"
   ]
  },
  {
   "cell_type": "markdown",
   "metadata": {},
   "source": [
    "## 23  How many roles has Sidney Poitier played throughout his career?"
   ]
  },
  {
   "cell_type": "code",
   "execution_count": 67,
   "metadata": {},
   "outputs": [
    {
     "name": "stdout",
     "output_type": "stream",
     "text": [
      "No. of roles Sidney Poitier played in his career:  43\n"
     ]
    }
   ],
   "source": [
    "#Creating a first filter from original dataset where taking character, name \n",
    "filter_one = titles[['name','character']]\n",
    "\n",
    "#Creating a second filter from first filter where name is Sidney Poitier\n",
    "filter_two = filter_one[filter_one['name'] == 'Sidney Poitier']\n",
    "\n",
    "#PRint the count of roles that he played\n",
    "print(\"No. of roles Sidney Poitier played in his career: \" , filter_two['character'].count())"
   ]
  },
  {
   "cell_type": "markdown",
   "metadata": {},
   "source": [
    "## 24  How many roles has Judi Dench played?"
   ]
  },
  {
   "cell_type": "code",
   "execution_count": 68,
   "metadata": {},
   "outputs": [
    {
     "name": "stdout",
     "output_type": "stream",
     "text": [
      "No. of roles Judi Dench played in his career:  55\n"
     ]
    }
   ],
   "source": [
    "#Creating a first filter from original dataset where taking character, name \n",
    "filter_one = titles[['name','character']]\n",
    "\n",
    "#Creating a second filter from first filter where name is Judi Dench\n",
    "filter_two = filter_one[filter_one['name'] == 'Judi Dench']\n",
    "\n",
    "#PRint the count of roles that he played\n",
    "print(\"No. of roles Judi Dench played in his career: \" , filter_two['character'].count())"
   ]
  },
  {
   "cell_type": "markdown",
   "metadata": {},
   "source": [
    "## 25  List the supporting roles (having n=2) played by Cary Grant in the 1940s, in order by year."
   ]
  },
  {
   "cell_type": "code",
   "execution_count": 69,
   "metadata": {},
   "outputs": [
    {
     "name": "stdout",
     "output_type": "stream",
     "text": [
      "              name    character    n  year\n",
      "871423  Cary Grant   Nick Arden  2.0  1940\n",
      "871433  Cary Grant  Roger Adams  2.0  1941\n"
     ]
    }
   ],
   "source": [
    "#Creating a first filter from original dataset where taking character, n, name and year\n",
    "filter_one = titles[['name','character','n','year']]\n",
    "\n",
    "#Creating a second filter from first filter where name is Cary grant\n",
    "filter_two = filter_one[filter_one['name'] == 'Cary Grant']\n",
    "\n",
    "#Creating a thrid filter from second filter where n is 2\n",
    "filter_three = filter_two[filter_two['n'] == 2]\n",
    "filter_three\n",
    "\n",
    "#Creating a fourth filter where he played supporting roles in 1940's\n",
    "filter_four = filter_three[filter_three['year'].between(1940,1950)]\n",
    "\n",
    "#PRinting the result sorted by year\n",
    "print(filter_four.sort_values('year', ascending=True))"
   ]
  },
  {
   "cell_type": "markdown",
   "metadata": {},
   "source": [
    "## 26  List the leading roles that Cary Grant played in the 1940s in order by year."
   ]
  },
  {
   "cell_type": "code",
   "execution_count": 70,
   "metadata": {},
   "outputs": [
    {
     "name": "stdout",
     "output_type": "stream",
     "text": [
      "              name                             character    n  year\n",
      "871448  Cary Grant                           Matt Howard  1.0  1940\n",
      "871407  Cary Grant                          Walter Burns  1.0  1940\n",
      "871450  Cary Grant                    C. K. Dexter Haven  1.0  1940\n",
      "871438  Cary Grant                      Johnnie Aysgarth  1.0  1941\n",
      "871452  Cary Grant                          Leopold Dilg  1.0  1942\n",
      "871429  Cary Grant                 Patrick 'Pat' O'Toole  1.0  1942\n",
      "871398  Cary Grant                         Capt. Cassidy  1.0  1943\n",
      "871422  Cary Grant  Joe Adams -posing as Joe Bascopolous  1.0  1943\n",
      "871430  Cary Grant                           Jerry Flynn  1.0  1944\n",
      "871390  Cary Grant                     Mortimer Brewster  1.0  1944\n",
      "871425  Cary Grant                            Ernie Mott  1.0  1944\n",
      "871427  Cary Grant                                Devlin  1.0  1946\n",
      "871424  Cary Grant                           Cole Porter  1.0  1946\n",
      "871444  Cary Grant                           Dick Nugent  1.0  1947\n",
      "871445  Cary Grant                                Dudley  1.0  1947\n",
      "871421  Cary Grant                         Jim Blandings  1.0  1948\n",
      "871402  Cary Grant                     Dr. Madison Brown  1.0  1948\n",
      "871411  Cary Grant                 Captain Henri Rochard  1.0  1949\n",
      "871396  Cary Grant           Dr. Eugene Norland Ferguson  1.0  1950\n"
     ]
    }
   ],
   "source": [
    "#Creating a first filter from original dataset where taking character, n, name and year\n",
    "filter_one = titles[['name','character','n','year']]\n",
    "\n",
    "#Creating a second filter from first filter where name is Cary grant\n",
    "filter_two = filter_one[filter_one['name'] == 'Cary Grant']\n",
    "\n",
    "#Creating a thrid filter from second filter where n is 1(leading role)\n",
    "filter_three = filter_two[filter_two['n'] == 1]\n",
    "\n",
    "#Creating a fourth filter where he played leading roles in 1940's\n",
    "filter_four = filter_three[filter_three['year'].between(1940,1950)]\n",
    "\n",
    "#PRinting the result sorted by year\n",
    "print(filter_four.sort_values('year', ascending=True))"
   ]
  },
  {
   "cell_type": "markdown",
   "metadata": {},
   "source": [
    "## 27  How many roles were available for actors in the 1950s?"
   ]
  },
  {
   "cell_type": "code",
   "execution_count": 71,
   "metadata": {},
   "outputs": [
    {
     "name": "stdout",
     "output_type": "stream",
     "text": [
      "Number of roles available for actors in 1950s is:  171302\n"
     ]
    }
   ],
   "source": [
    "#Creating a first filter from original dataset where taking character, type, year\n",
    "filter_one = titles[['type','character','year']]\n",
    "\n",
    "#Creating a second filter from first filter where type is actor\n",
    "filter_two = filter_one[filter_one['type'] == 'actor']\n",
    "\n",
    "#Creating a thrid filter where year is 1950s\n",
    "filter_three = filter_two[filter_two['year'].between(1950,1960)]\n",
    "\n",
    "#Printing the number of roles available for actors\n",
    "print(\"Number of roles available for actors in 1950s is: \" ,filter_three['character'].count())"
   ]
  },
  {
   "cell_type": "markdown",
   "metadata": {},
   "source": [
    "## 28  How many roles were available for actresses in the 1950s?"
   ]
  },
  {
   "cell_type": "code",
   "execution_count": 72,
   "metadata": {},
   "outputs": [
    {
     "name": "stdout",
     "output_type": "stream",
     "text": [
      "Number of roles available for actresses in 1950s is:  63333\n"
     ]
    }
   ],
   "source": [
    "#Creating a first filter from original dataset where taking character, type, year\n",
    "filter_one = titles[['type','character','year']]\n",
    "\n",
    "#Creating a second filter from first filter where type is actress\n",
    "filter_two = filter_one[filter_one['type'] == 'actress']\n",
    "\n",
    "#Creating a thrid filter where year is 1950s\n",
    "filter_three = filter_two[filter_two['year'].between(1950,1960)]\n",
    "\n",
    "#Printing the number of roles available for actors\n",
    "print(\"Number of roles available for actresses in 1950s is: \" ,filter_three['character'].count())"
   ]
  },
  {
   "cell_type": "markdown",
   "metadata": {},
   "source": [
    "## 29  How many leading roles (n=1) were available from the beginning of film history through 1980?"
   ]
  },
  {
   "cell_type": "code",
   "execution_count": 73,
   "metadata": {},
   "outputs": [
    {
     "name": "stdout",
     "output_type": "stream",
     "text": [
      "The number of leading roles available from beginning of film industry to 1980 is:  65140\n"
     ]
    }
   ],
   "source": [
    "\n",
    "\n",
    "#Creating a first filter from original dataset where taking character, n, year\n",
    "filter_one = titles[['character','n','year']]\n",
    "\n",
    "#Creating a second filter from first filter where dataframe has years till 1980\n",
    "filter_two = filter_one[filter_one['year'].between(1894,1980)]\n",
    "\n",
    "#Creating a thrid filter where n is 1 from second filter\n",
    "filter_three = filter_two[filter_two['n'] == 1]\n",
    "\n",
    "#Printing the number of leading roles from beginning of industry to 1980\n",
    "print(\"The number of leading roles available from beginning of film industry to 1980 is: \", filter_three['character'].count())\n",
    "\n"
   ]
  },
  {
   "cell_type": "markdown",
   "metadata": {},
   "source": [
    "## 30  How many non-leading roles were available through from the beginning of film history through 1980?"
   ]
  },
  {
   "cell_type": "code",
   "execution_count": 74,
   "metadata": {},
   "outputs": [
    {
     "name": "stdout",
     "output_type": "stream",
     "text": [
      "The number of non-leading roles available from beginning of film industry to 1980 is:  1117667\n"
     ]
    }
   ],
   "source": [
    "#Creating a first filter from original dataset where taking character, n, year\n",
    "filter_one = titles[['character','n','year']]\n",
    "\n",
    "#Creating a second filter from first filter where dataframe has years till 1980\n",
    "filter_two = filter_one[filter_one['year'].between(1894,1980)]\n",
    "\n",
    "#Creating a thrid filter where n is not 1 from second filter\n",
    "filter_three = filter_two[filter_two['n'] != 1]\n",
    "\n",
    "#Printing the number of leading roles from beginning of industry to 1980\n",
    "print(\"The number of non-leading roles available from beginning of film industry to 1980 is: \", filter_three['character'].count())"
   ]
  },
  {
   "cell_type": "markdown",
   "metadata": {},
   "source": [
    "## 31  How many roles through 1980 were minor enough that they did not warrant a numeric \"n\" rank?"
   ]
  },
  {
   "cell_type": "code",
   "execution_count": 75,
   "metadata": {},
   "outputs": [
    {
     "name": "stdout",
     "output_type": "stream",
     "text": [
      "The number of roles that were minors enough to get numeric n rank is from beginning to 1980: \n",
      "448347\n"
     ]
    }
   ],
   "source": [
    "#Creating a first filter from original dataset where taking character, n\n",
    "filter_one = titles[['character','n', 'year']]\n",
    "\n",
    "#Creating a second filter from first filter where n is null or nan(minor enough to get numeric n rank)\n",
    "filter_two = filter_one[filter_one['n'].isnull()]\n",
    "\n",
    "#Creating a thrid filter that were minors from beginning(minimum value of year == 1894) to 1980\n",
    "filter_three = filter_two[filter_two['year'].between(1894,1980)]\n",
    "\n",
    "#Printing the number of roles that are not enough to get numeric n rank\n",
    "print(\"The number of roles that were minors enough to get numeric n rank is from beginning to 1980: \")\n",
    "print(filter_three['character'].count())"
   ]
  }
 ],
 "metadata": {
  "kernelspec": {
   "display_name": "Python 3",
   "language": "python",
   "name": "python3"
  },
  "language_info": {
   "codemirror_mode": {
    "name": "ipython",
    "version": 3
   },
   "file_extension": ".py",
   "mimetype": "text/x-python",
   "name": "python",
   "nbconvert_exporter": "python",
   "pygments_lexer": "ipython3",
   "version": "3.7.4"
  },
  "toc": {
   "base_numbering": 1,
   "nav_menu": {},
   "number_sections": true,
   "sideBar": true,
   "skip_h1_title": false,
   "title_cell": "Table of Contents",
   "title_sidebar": "Contents",
   "toc_cell": false,
   "toc_position": {},
   "toc_section_display": true,
   "toc_window_display": false
  }
 },
 "nbformat": 4,
 "nbformat_minor": 2
}
