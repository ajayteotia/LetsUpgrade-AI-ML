{
 "cells": [
  {
   "cell_type": "markdown",
   "metadata": {},
   "source": [
    "## K-Nearest Neighbour"
   ]
  },
  {
   "cell_type": "code",
   "execution_count": 36,
   "metadata": {},
   "outputs": [],
   "source": [
    "import pandas as pd\n",
    "import matplotlib.pyplot as plt"
   ]
  },
  {
   "cell_type": "code",
   "execution_count": 5,
   "metadata": {},
   "outputs": [],
   "source": [
    "from sklearn import preprocessing\n",
    "from sklearn.model_selection import train_test_split\n",
    "from sklearn.metrics import accuracy_score\n",
    "from sklearn.metrics import confusion_matrix"
   ]
  },
  {
   "cell_type": "code",
   "execution_count": 6,
   "metadata": {},
   "outputs": [],
   "source": [
    "df = pd.read_csv(\"titanic_train.csv\")"
   ]
  },
  {
   "cell_type": "code",
   "execution_count": 7,
   "metadata": {},
   "outputs": [
    {
     "data": {
      "text/plain": [
       "Index(['PassengerId', 'Survived', 'Pclass', 'Name', 'Sex', 'Age', 'SibSp',\n",
       "       'Parch', 'Ticket', 'Fare', 'Cabin', 'Embarked'],\n",
       "      dtype='object')"
      ]
     },
     "execution_count": 7,
     "metadata": {},
     "output_type": "execute_result"
    }
   ],
   "source": [
    "df.columns"
   ]
  },
  {
   "cell_type": "code",
   "execution_count": 8,
   "metadata": {},
   "outputs": [],
   "source": [
    "df1 = df.drop([\"PassengerId\",\"Name\",\"Ticket\",\"Cabin\"],axis=1)"
   ]
  },
  {
   "cell_type": "code",
   "execution_count": 9,
   "metadata": {},
   "outputs": [],
   "source": [
    "le = preprocessing.LabelEncoder()"
   ]
  },
  {
   "cell_type": "code",
   "execution_count": 10,
   "metadata": {},
   "outputs": [],
   "source": [
    "df1[\"Sex\"] = le.fit_transform(df1[\"Sex\"])"
   ]
  },
  {
   "cell_type": "code",
   "execution_count": 11,
   "metadata": {},
   "outputs": [],
   "source": [
    "df1[\"Embarked\"] = le.fit_transform(df1[\"Embarked\"])"
   ]
  },
  {
   "cell_type": "code",
   "execution_count": 12,
   "metadata": {},
   "outputs": [
    {
     "data": {
      "text/html": [
       "<div>\n",
       "<style scoped>\n",
       "    .dataframe tbody tr th:only-of-type {\n",
       "        vertical-align: middle;\n",
       "    }\n",
       "\n",
       "    .dataframe tbody tr th {\n",
       "        vertical-align: top;\n",
       "    }\n",
       "\n",
       "    .dataframe thead th {\n",
       "        text-align: right;\n",
       "    }\n",
       "</style>\n",
       "<table border=\"1\" class=\"dataframe\">\n",
       "  <thead>\n",
       "    <tr style=\"text-align: right;\">\n",
       "      <th></th>\n",
       "      <th>Survived</th>\n",
       "      <th>Pclass</th>\n",
       "      <th>Sex</th>\n",
       "      <th>Age</th>\n",
       "      <th>SibSp</th>\n",
       "      <th>Parch</th>\n",
       "      <th>Fare</th>\n",
       "      <th>Embarked</th>\n",
       "    </tr>\n",
       "  </thead>\n",
       "  <tbody>\n",
       "    <tr>\n",
       "      <td>0</td>\n",
       "      <td>0</td>\n",
       "      <td>3</td>\n",
       "      <td>1</td>\n",
       "      <td>22.0</td>\n",
       "      <td>1</td>\n",
       "      <td>0</td>\n",
       "      <td>7.2500</td>\n",
       "      <td>2</td>\n",
       "    </tr>\n",
       "    <tr>\n",
       "      <td>1</td>\n",
       "      <td>1</td>\n",
       "      <td>1</td>\n",
       "      <td>0</td>\n",
       "      <td>38.0</td>\n",
       "      <td>1</td>\n",
       "      <td>0</td>\n",
       "      <td>71.2833</td>\n",
       "      <td>0</td>\n",
       "    </tr>\n",
       "  </tbody>\n",
       "</table>\n",
       "</div>"
      ],
      "text/plain": [
       "   Survived  Pclass  Sex   Age  SibSp  Parch     Fare  Embarked\n",
       "0         0       3    1  22.0      1      0   7.2500         2\n",
       "1         1       1    0  38.0      1      0  71.2833         0"
      ]
     },
     "execution_count": 12,
     "metadata": {},
     "output_type": "execute_result"
    }
   ],
   "source": [
    "df1.head(2)"
   ]
  },
  {
   "cell_type": "code",
   "execution_count": 56,
   "metadata": {},
   "outputs": [],
   "source": [
    "from sklearn import neighbors"
   ]
  },
  {
   "cell_type": "code",
   "execution_count": 57,
   "metadata": {},
   "outputs": [],
   "source": [
    "y = df1[\"Pclass\"]"
   ]
  },
  {
   "cell_type": "code",
   "execution_count": 58,
   "metadata": {},
   "outputs": [],
   "source": [
    "X = df1.drop([\"Pclass\"],axis = 1)"
   ]
  },
  {
   "cell_type": "code",
   "execution_count": 59,
   "metadata": {},
   "outputs": [],
   "source": [
    "X_train,X_test,y_train,y_test = train_test_split(X,y,test_size =0.3,random_state =0)"
   ]
  },
  {
   "cell_type": "markdown",
   "metadata": {},
   "source": [
    "### When, K is from 1 to 267:"
   ]
  },
  {
   "cell_type": "code",
   "execution_count": 142,
   "metadata": {},
   "outputs": [
    {
     "name": "stdout",
     "output_type": "stream",
     "text": [
      "Accracy when k value is 1 is: 0.7602996254681648\n",
      "Accracy when k value is 2 is: 0.704119850187266\n",
      "Accracy when k value is 3 is: 0.7453183520599251\n",
      "Accracy when k value is 4 is: 0.7378277153558053\n",
      "Accracy when k value is 5 is: 0.7640449438202247\n",
      "Accracy when k value is 6 is: 0.7715355805243446\n",
      "Accracy when k value is 7 is: 0.7715355805243446\n",
      "Accracy when k value is 8 is: 0.7790262172284644\n",
      "Accracy when k value is 9 is: 0.7565543071161048\n",
      "Accracy when k value is 10 is: 0.7640449438202247\n",
      "Accracy when k value is 11 is: 0.7565543071161048\n",
      "Accracy when k value is 12 is: 0.7415730337078652\n",
      "Accracy when k value is 13 is: 0.7453183520599251\n",
      "Accracy when k value is 14 is: 0.7228464419475655\n",
      "Accracy when k value is 15 is: 0.7378277153558053\n",
      "Accracy when k value is 16 is: 0.7303370786516854\n",
      "Accracy when k value is 17 is: 0.7415730337078652\n",
      "Accracy when k value is 18 is: 0.7378277153558053\n",
      "Accracy when k value is 19 is: 0.7415730337078652\n",
      "Accracy when k value is 20 is: 0.7490636704119851\n",
      "Accracy when k value is 21 is: 0.7415730337078652\n",
      "Accracy when k value is 22 is: 0.7303370786516854\n",
      "Accracy when k value is 23 is: 0.7415730337078652\n",
      "Accracy when k value is 24 is: 0.7415730337078652\n",
      "Accracy when k value is 25 is: 0.7340823970037453\n",
      "Accracy when k value is 26 is: 0.7378277153558053\n",
      "Accracy when k value is 27 is: 0.7340823970037453\n",
      "Accracy when k value is 28 is: 0.7303370786516854\n",
      "Accracy when k value is 29 is: 0.7265917602996255\n",
      "Accracy when k value is 30 is: 0.7265917602996255\n",
      "Accracy when k value is 31 is: 0.7265917602996255\n",
      "Accracy when k value is 32 is: 0.7303370786516854\n",
      "Accracy when k value is 33 is: 0.7340823970037453\n",
      "Accracy when k value is 34 is: 0.7340823970037453\n",
      "Accracy when k value is 35 is: 0.7340823970037453\n",
      "Accracy when k value is 36 is: 0.7303370786516854\n",
      "Accracy when k value is 37 is: 0.7265917602996255\n",
      "Accracy when k value is 38 is: 0.7415730337078652\n",
      "Accracy when k value is 39 is: 0.7453183520599251\n",
      "Accracy when k value is 40 is: 0.7528089887640449\n",
      "Accracy when k value is 41 is: 0.7565543071161048\n",
      "Accracy when k value is 42 is: 0.7490636704119851\n",
      "Accracy when k value is 43 is: 0.7453183520599251\n",
      "Accracy when k value is 44 is: 0.7453183520599251\n",
      "Accracy when k value is 45 is: 0.7415730337078652\n",
      "Accracy when k value is 46 is: 0.7453183520599251\n",
      "Accracy when k value is 47 is: 0.7453183520599251\n",
      "Accracy when k value is 48 is: 0.7490636704119851\n",
      "Accracy when k value is 49 is: 0.7228464419475655\n",
      "Accracy when k value is 50 is: 0.7265917602996255\n",
      "Accracy when k value is 51 is: 0.7303370786516854\n",
      "Accracy when k value is 52 is: 0.7303370786516854\n",
      "Accracy when k value is 53 is: 0.7116104868913857\n",
      "Accracy when k value is 54 is: 0.7116104868913857\n",
      "Accracy when k value is 55 is: 0.7191011235955056\n",
      "Accracy when k value is 56 is: 0.7191011235955056\n",
      "Accracy when k value is 57 is: 0.7191011235955056\n",
      "Accracy when k value is 58 is: 0.7191011235955056\n",
      "Accracy when k value is 59 is: 0.7303370786516854\n",
      "Accracy when k value is 60 is: 0.7340823970037453\n",
      "Accracy when k value is 61 is: 0.7303370786516854\n",
      "Accracy when k value is 62 is: 0.7303370786516854\n",
      "Accracy when k value is 63 is: 0.7303370786516854\n",
      "Accracy when k value is 64 is: 0.7303370786516854\n",
      "Accracy when k value is 65 is: 0.7340823970037453\n",
      "Accracy when k value is 66 is: 0.7340823970037453\n",
      "Accracy when k value is 67 is: 0.7340823970037453\n",
      "Accracy when k value is 68 is: 0.7378277153558053\n",
      "Accracy when k value is 69 is: 0.7340823970037453\n",
      "Accracy when k value is 70 is: 0.7340823970037453\n",
      "Accracy when k value is 71 is: 0.7340823970037453\n",
      "Accracy when k value is 72 is: 0.7340823970037453\n",
      "Accracy when k value is 73 is: 0.7340823970037453\n",
      "Accracy when k value is 74 is: 0.7340823970037453\n",
      "Accracy when k value is 75 is: 0.7340823970037453\n",
      "Accracy when k value is 76 is: 0.7340823970037453\n",
      "Accracy when k value is 77 is: 0.7340823970037453\n",
      "Accracy when k value is 78 is: 0.7340823970037453\n",
      "Accracy when k value is 79 is: 0.7340823970037453\n",
      "Accracy when k value is 80 is: 0.7340823970037453\n",
      "Accracy when k value is 81 is: 0.7340823970037453\n",
      "Accracy when k value is 82 is: 0.7340823970037453\n",
      "Accracy when k value is 83 is: 0.7340823970037453\n",
      "Accracy when k value is 84 is: 0.7340823970037453\n",
      "Accracy when k value is 85 is: 0.7340823970037453\n",
      "Accracy when k value is 86 is: 0.7340823970037453\n",
      "Accracy when k value is 87 is: 0.7340823970037453\n",
      "Accracy when k value is 88 is: 0.7340823970037453\n",
      "Accracy when k value is 89 is: 0.7340823970037453\n",
      "Accracy when k value is 90 is: 0.7340823970037453\n",
      "Accracy when k value is 91 is: 0.7340823970037453\n",
      "Accracy when k value is 92 is: 0.7340823970037453\n",
      "Accracy when k value is 93 is: 0.7340823970037453\n",
      "Accracy when k value is 94 is: 0.7340823970037453\n",
      "Accracy when k value is 95 is: 0.7340823970037453\n",
      "Accracy when k value is 96 is: 0.7340823970037453\n",
      "Accracy when k value is 97 is: 0.7340823970037453\n",
      "Accracy when k value is 98 is: 0.7340823970037453\n",
      "Accracy when k value is 99 is: 0.7340823970037453\n",
      "Accracy when k value is 100 is: 0.7340823970037453\n",
      "Accracy when k value is 101 is: 0.7340823970037453\n",
      "Accracy when k value is 102 is: 0.7340823970037453\n",
      "Accracy when k value is 103 is: 0.7340823970037453\n",
      "Accracy when k value is 104 is: 0.7340823970037453\n",
      "Accracy when k value is 105 is: 0.7340823970037453\n",
      "Accracy when k value is 106 is: 0.7340823970037453\n",
      "Accracy when k value is 107 is: 0.7340823970037453\n",
      "Accracy when k value is 108 is: 0.7340823970037453\n",
      "Accracy when k value is 109 is: 0.7340823970037453\n",
      "Accracy when k value is 110 is: 0.7340823970037453\n",
      "Accracy when k value is 111 is: 0.7340823970037453\n",
      "Accracy when k value is 112 is: 0.7340823970037453\n",
      "Accracy when k value is 113 is: 0.7340823970037453\n",
      "Accracy when k value is 114 is: 0.7340823970037453\n",
      "Accracy when k value is 115 is: 0.7340823970037453\n",
      "Accracy when k value is 116 is: 0.7340823970037453\n",
      "Accracy when k value is 117 is: 0.7340823970037453\n",
      "Accracy when k value is 118 is: 0.7340823970037453\n",
      "Accracy when k value is 119 is: 0.7340823970037453\n",
      "Accracy when k value is 120 is: 0.7340823970037453\n",
      "Accracy when k value is 121 is: 0.7340823970037453\n",
      "Accracy when k value is 122 is: 0.7340823970037453\n",
      "Accracy when k value is 123 is: 0.7340823970037453\n",
      "Accracy when k value is 124 is: 0.7340823970037453\n",
      "Accracy when k value is 125 is: 0.7340823970037453\n",
      "Accracy when k value is 126 is: 0.7340823970037453\n",
      "Accracy when k value is 127 is: 0.7340823970037453\n",
      "Accracy when k value is 128 is: 0.7340823970037453\n",
      "Accracy when k value is 129 is: 0.7340823970037453\n",
      "Accracy when k value is 130 is: 0.7340823970037453\n",
      "Accracy when k value is 131 is: 0.7340823970037453\n",
      "Accracy when k value is 132 is: 0.7340823970037453\n",
      "Accracy when k value is 133 is: 0.7340823970037453\n",
      "Accracy when k value is 134 is: 0.7340823970037453\n",
      "Accracy when k value is 135 is: 0.7340823970037453\n",
      "Accracy when k value is 136 is: 0.7340823970037453\n",
      "Accracy when k value is 137 is: 0.7340823970037453\n",
      "Accracy when k value is 138 is: 0.7340823970037453\n",
      "Accracy when k value is 139 is: 0.7340823970037453\n",
      "Accracy when k value is 140 is: 0.7340823970037453\n",
      "Accracy when k value is 141 is: 0.7340823970037453\n",
      "Accracy when k value is 142 is: 0.7340823970037453\n",
      "Accracy when k value is 143 is: 0.7340823970037453\n",
      "Accracy when k value is 144 is: 0.7340823970037453\n",
      "Accracy when k value is 145 is: 0.7340823970037453\n",
      "Accracy when k value is 146 is: 0.7340823970037453\n",
      "Accracy when k value is 147 is: 0.7340823970037453\n",
      "Accracy when k value is 148 is: 0.7340823970037453\n",
      "Accracy when k value is 149 is: 0.7340823970037453\n",
      "Accracy when k value is 150 is: 0.7340823970037453\n",
      "Accracy when k value is 151 is: 0.7340823970037453\n",
      "Accracy when k value is 152 is: 0.7340823970037453\n",
      "Accracy when k value is 153 is: 0.7340823970037453\n",
      "Accracy when k value is 154 is: 0.7340823970037453\n",
      "Accracy when k value is 155 is: 0.7340823970037453\n",
      "Accracy when k value is 156 is: 0.7340823970037453\n",
      "Accracy when k value is 157 is: 0.7340823970037453\n",
      "Accracy when k value is 158 is: 0.7340823970037453\n",
      "Accracy when k value is 159 is: 0.7340823970037453\n",
      "Accracy when k value is 160 is: 0.7340823970037453\n",
      "Accracy when k value is 161 is: 0.7340823970037453\n",
      "Accracy when k value is 162 is: 0.7340823970037453\n",
      "Accracy when k value is 163 is: 0.7340823970037453\n",
      "Accracy when k value is 164 is: 0.7340823970037453\n",
      "Accracy when k value is 165 is: 0.7340823970037453\n",
      "Accracy when k value is 166 is: 0.7340823970037453\n"
     ]
    },
    {
     "name": "stdout",
     "output_type": "stream",
     "text": [
      "Accracy when k value is 167 is: 0.7340823970037453\n",
      "Accracy when k value is 168 is: 0.7340823970037453\n",
      "Accracy when k value is 169 is: 0.7340823970037453\n",
      "Accracy when k value is 170 is: 0.7340823970037453\n",
      "Accracy when k value is 171 is: 0.7340823970037453\n",
      "Accracy when k value is 172 is: 0.7340823970037453\n",
      "Accracy when k value is 173 is: 0.7340823970037453\n",
      "Accracy when k value is 174 is: 0.7340823970037453\n",
      "Accracy when k value is 175 is: 0.7340823970037453\n",
      "Accracy when k value is 176 is: 0.7340823970037453\n",
      "Accracy when k value is 177 is: 0.7340823970037453\n",
      "Accracy when k value is 178 is: 0.7340823970037453\n",
      "Accracy when k value is 179 is: 0.7340823970037453\n",
      "Accracy when k value is 180 is: 0.7340823970037453\n",
      "Accracy when k value is 181 is: 0.7340823970037453\n",
      "Accracy when k value is 182 is: 0.7340823970037453\n",
      "Accracy when k value is 183 is: 0.7340823970037453\n",
      "Accracy when k value is 184 is: 0.7340823970037453\n",
      "Accracy when k value is 185 is: 0.7340823970037453\n",
      "Accracy when k value is 186 is: 0.7340823970037453\n",
      "Accracy when k value is 187 is: 0.7340823970037453\n",
      "Accracy when k value is 188 is: 0.7340823970037453\n",
      "Accracy when k value is 189 is: 0.7340823970037453\n",
      "Accracy when k value is 190 is: 0.7340823970037453\n",
      "Accracy when k value is 191 is: 0.7340823970037453\n",
      "Accracy when k value is 192 is: 0.7340823970037453\n",
      "Accracy when k value is 193 is: 0.7340823970037453\n",
      "Accracy when k value is 194 is: 0.7340823970037453\n",
      "Accracy when k value is 195 is: 0.7340823970037453\n",
      "Accracy when k value is 196 is: 0.7340823970037453\n",
      "Accracy when k value is 197 is: 0.7340823970037453\n",
      "Accracy when k value is 198 is: 0.7340823970037453\n",
      "Accracy when k value is 199 is: 0.7340823970037453\n",
      "Accracy when k value is 200 is: 0.7340823970037453\n",
      "Accracy when k value is 201 is: 0.7340823970037453\n",
      "Accracy when k value is 202 is: 0.7340823970037453\n",
      "Accracy when k value is 203 is: 0.7340823970037453\n",
      "Accracy when k value is 204 is: 0.7340823970037453\n",
      "Accracy when k value is 205 is: 0.7340823970037453\n",
      "Accracy when k value is 206 is: 0.7340823970037453\n",
      "Accracy when k value is 207 is: 0.7340823970037453\n",
      "Accracy when k value is 208 is: 0.7340823970037453\n",
      "Accracy when k value is 209 is: 0.7340823970037453\n",
      "Accracy when k value is 210 is: 0.7340823970037453\n",
      "Accracy when k value is 211 is: 0.7340823970037453\n",
      "Accracy when k value is 212 is: 0.7340823970037453\n",
      "Accracy when k value is 213 is: 0.7340823970037453\n",
      "Accracy when k value is 214 is: 0.7340823970037453\n",
      "Accracy when k value is 215 is: 0.7340823970037453\n",
      "Accracy when k value is 216 is: 0.7340823970037453\n",
      "Accracy when k value is 217 is: 0.7340823970037453\n",
      "Accracy when k value is 218 is: 0.7340823970037453\n",
      "Accracy when k value is 219 is: 0.7340823970037453\n",
      "Accracy when k value is 220 is: 0.7340823970037453\n",
      "Accracy when k value is 221 is: 0.7340823970037453\n",
      "Accracy when k value is 222 is: 0.7340823970037453\n",
      "Accracy when k value is 223 is: 0.7340823970037453\n",
      "Accracy when k value is 224 is: 0.7340823970037453\n",
      "Accracy when k value is 225 is: 0.7340823970037453\n",
      "Accracy when k value is 226 is: 0.7340823970037453\n",
      "Accracy when k value is 227 is: 0.7340823970037453\n",
      "Accracy when k value is 228 is: 0.7340823970037453\n",
      "Accracy when k value is 229 is: 0.7340823970037453\n",
      "Accracy when k value is 230 is: 0.7340823970037453\n",
      "Accracy when k value is 231 is: 0.7340823970037453\n",
      "Accracy when k value is 232 is: 0.7340823970037453\n",
      "Accracy when k value is 233 is: 0.7340823970037453\n",
      "Accracy when k value is 234 is: 0.7340823970037453\n",
      "Accracy when k value is 235 is: 0.7340823970037453\n",
      "Accracy when k value is 236 is: 0.7340823970037453\n",
      "Accracy when k value is 237 is: 0.7340823970037453\n",
      "Accracy when k value is 238 is: 0.7340823970037453\n",
      "Accracy when k value is 239 is: 0.7340823970037453\n",
      "Accracy when k value is 240 is: 0.7340823970037453\n",
      "Accracy when k value is 241 is: 0.7340823970037453\n",
      "Accracy when k value is 242 is: 0.7340823970037453\n",
      "Accracy when k value is 243 is: 0.7340823970037453\n",
      "Accracy when k value is 244 is: 0.7340823970037453\n",
      "Accracy when k value is 245 is: 0.7340823970037453\n",
      "Accracy when k value is 246 is: 0.7340823970037453\n",
      "Accracy when k value is 247 is: 0.7340823970037453\n",
      "Accracy when k value is 248 is: 0.7340823970037453\n",
      "Accracy when k value is 249 is: 0.7340823970037453\n",
      "Accracy when k value is 250 is: 0.7340823970037453\n",
      "Accracy when k value is 251 is: 0.7340823970037453\n",
      "Accracy when k value is 252 is: 0.7340823970037453\n",
      "Accracy when k value is 253 is: 0.7340823970037453\n",
      "Accracy when k value is 254 is: 0.7340823970037453\n",
      "Accracy when k value is 255 is: 0.7340823970037453\n",
      "Accracy when k value is 256 is: 0.7340823970037453\n",
      "Accracy when k value is 257 is: 0.7340823970037453\n",
      "Accracy when k value is 258 is: 0.7340823970037453\n",
      "Accracy when k value is 259 is: 0.7340823970037453\n",
      "Accracy when k value is 260 is: 0.7340823970037453\n",
      "Accracy when k value is 261 is: 0.7340823970037453\n",
      "Accracy when k value is 262 is: 0.7340823970037453\n",
      "Accracy when k value is 263 is: 0.7340823970037453\n",
      "Accracy when k value is 264 is: 0.7340823970037453\n",
      "Accracy when k value is 265 is: 0.7340823970037453\n",
      "Accracy when k value is 266 is: 0.7340823970037453\n",
      "Accracy when k value is 267 is: 0.7340823970037453\n"
     ]
    }
   ],
   "source": [
    "def kval(a):\n",
    "        knn = neighbors.KNeighborsClassifier(n_neighbors=a)\n",
    "        knn.fit(X_train,y_train).score(X_test,y_test)\n",
    "        y_pred = knn.predict(X_test)\n",
    "        print(\"Accracy when k value is\",a,\"is:\",accuracy_score(y_test,y_pred))    \n",
    "for i in range(1,268):\n",
    "    kval(i)"
   ]
  },
  {
   "cell_type": "code",
   "execution_count": 141,
   "metadata": {},
   "outputs": [
    {
     "data": {
      "image/png": "[encoded data removed]",
      "text/plain": [
       "<Figure size 432x288 with 1 Axes>"
      ]
     },
     "metadata": {
      "needs_background": "light"
     },
     "output_type": "display_data"
    }
   ],
   "source": [
    "x = [1,2,3,4,5,6,7,8,9,10,11,12,13,14,15,16,17,18,19,20,21,22,23,24,25,26,27,28,29,30,31,32,33,34,35,36,37,38,39,40,41,42,43,44,45,46,47,48,49,50,51,52,53,54,55,56,57,58,59,60,61,62,63,64,65,66,67,68,69,70,71,72,73,74,75,76,77,78,79,80,81,82,83,84,85,86,87,88,89,90,91,92,93,94,95,96,97,98,99,100,101,102,103,104,105,106,107,108,109,110,111,112,113,114,115,116,117,118,119,120,121,122,123,124,125,126,127,128,129,130,131,132,133,134,135,136,137,138,139,140,141,142,143,144,145,146,147,148,149,150,151,152,153,154,155,156,157,158,159,160,161,162,163,164,165,166,167,168,169,170,171,172,173,174,175,176,177,178,179,180,181,182,183,184,185,186,187,188,189,190,191,192,193,194,195,196,197,198,199,200,201,202,203,204,205,206,207,208,209,210,211,212,213,214,215,216,217,218,219,220,221,222,223,224,225,226,227,228,229,230,231,232,233,234,235,236,237,238,239,240,241,242,243,244,245,246,247,248,249,250,251,252,253,254,255,256,257,258,259,260,261,262,263,264,265,266,267]\n",
    "y = [0.7602996254681648,0.704119850187266,0.7453183520599251,0.7378277153558053,0.7640449438202247,0.7715355805243446,0.7715355805243446,0.7790262172284644,0.7565543071161048,0.7640449438202247,0.7565543071161048,0.7415730337078652,0.7453183520599251,0.7228464419475655,0.7378277153558053,0.7303370786516854,0.7415730337078652,0.7378277153558053,0.7415730337078652,0.7490636704119851,0.7415730337078652,0.7303370786516854,0.7415730337078652,0.7415730337078652,0.7340823970037453,0.7378277153558053,0.7340823970037453,0.7303370786516854,0.7265917602996255,0.7265917602996255,0.7265917602996255,0.7303370786516854,0.7340823970037453,0.7340823970037453,0.7340823970037453,0.7303370786516854,0.7265917602996255,0.7415730337078652,0.7453183520599251,0.7528089887640449,0.7565543071161048,0.7490636704119851,0.7453183520599251,0.7453183520599251,0.7415730337078652,0.7453183520599251,0.7453183520599251,0.7490636704119851,0.7228464419475655,0.7265917602996255,0.7303370786516854,0.7303370786516854,0.7116104868913857,0.7116104868913857,0.7191011235955056,0.7191011235955056,0.7191011235955056,0.7191011235955056,0.7303370786516854,0.7340823970037453,0.7303370786516854,0.7303370786516854,0.7303370786516854,0.7303370786516854,0.7340823970037453,0.7340823970037453,0.7340823970037453,0.7378277153558053,0.7340823970037453,0.7340823970037453,0.7340823970037453,0.7340823970037453,0.7340823970037453,0.7340823970037453,0.7340823970037453,0.7340823970037453,0.7340823970037453,0.7340823970037453,0.7340823970037453,0.7340823970037453,0.7340823970037453,0.7340823970037453,0.7340823970037453,0.7340823970037453,0.7340823970037453,0.7340823970037453,0.7340823970037453,0.7340823970037453,0.7340823970037453,0.7340823970037453,0.7340823970037453,0.7340823970037453,0.7340823970037453,0.7340823970037453,0.7340823970037453,0.7340823970037453,0.7340823970037453,0.7340823970037453,0.7340823970037453,0.7340823970037453,0.7340823970037453,0.7340823970037453,0.7340823970037453,0.7340823970037453,0.7340823970037453,0.7340823970037453,0.7340823970037453,0.7340823970037453,0.7340823970037453,0.7340823970037453,0.7340823970037453,0.7340823970037453,0.7340823970037453,0.7340823970037453,0.7340823970037453,0.7340823970037453,0.7340823970037453,0.7340823970037453,0.7340823970037453,0.7340823970037453,0.7340823970037453,0.7340823970037453,0.7340823970037453,0.7340823970037453,0.7340823970037453,0.7340823970037453,0.7340823970037453,0.7340823970037453,0.7340823970037453,0.7340823970037453,0.7340823970037453,0.7340823970037453,0.7340823970037453,0.7340823970037453,0.7340823970037453,0.7340823970037453,0.7340823970037453,0.7340823970037453,0.7340823970037453,0.7340823970037453,0.7340823970037453,0.7340823970037453,0.7340823970037453,0.7340823970037453,0.7340823970037453,0.7340823970037453,0.7340823970037453,0.7340823970037453,0.7340823970037453,0.7340823970037453,0.7340823970037453,0.7340823970037453,0.7340823970037453,0.7340823970037453,0.7340823970037453,0.7340823970037453,0.7340823970037453,0.7340823970037453,0.7340823970037453,0.7340823970037453,0.7340823970037453,0.7340823970037453,0.7340823970037453,0.7340823970037453,0.7340823970037453,0.7340823970037453,0.7340823970037453,0.7340823970037453,0.7340823970037453,0.7340823970037453,0.7340823970037453,0.7340823970037453,0.7340823970037453,0.7340823970037453,0.7340823970037453,0.7340823970037453,0.7340823970037453,0.7340823970037453,0.7340823970037453,0.7340823970037453,0.7340823970037453,0.7340823970037453,0.7340823970037453,0.7340823970037453,0.7340823970037453,0.7340823970037453,0.7340823970037453,0.7340823970037453,0.7340823970037453,0.7340823970037453,0.7340823970037453,0.7340823970037453,0.7340823970037453,0.7340823970037453,0.7340823970037453,0.7340823970037453,0.7340823970037453,0.7340823970037453,0.7340823970037453,0.7340823970037453,0.7340823970037453,0.7340823970037453,0.7340823970037453,0.7340823970037453,0.7340823970037453,0.7340823970037453,0.7340823970037453,0.7340823970037453,0.7340823970037453,0.7340823970037453,0.7340823970037453,0.7340823970037453,0.7340823970037453,0.7340823970037453,0.7340823970037453,0.7340823970037453,0.7340823970037453,0.7340823970037453,0.7340823970037453,0.7340823970037453,0.7340823970037453,0.7340823970037453,0.7340823970037453,0.7340823970037453,0.7340823970037453,0.7340823970037453,0.7340823970037453,0.7340823970037453,0.7340823970037453,0.7340823970037453,0.7340823970037453,0.7340823970037453,0.7340823970037453,0.7340823970037453,0.7340823970037453,0.7340823970037453,0.7340823970037453,0.7340823970037453,0.7340823970037453,0.7340823970037453,0.7340823970037453,0.7340823970037453,0.7340823970037453,0.7340823970037453,0.7340823970037453,0.7340823970037453,0.7340823970037453,0.7340823970037453,0.7340823970037453,0.7340823970037453,0.7340823970037453,0.7340823970037453,0.7340823970037453,0.7340823970037453,0.7340823970037453,0.7340823970037453,0.7340823970037453,0.7340823970037453,0.7340823970037453,0.7340823970037453,0.7340823970037453,0.7340823970037453,0.7340823970037453,0.7340823970037453,0.7340823970037453,0.7340823970037453,0.7340823970037453]\n",
    "\n",
    "plt.plot(x, y)\n",
    "\n",
    "plt.xlabel('K Value')\n",
    "plt.ylabel('Accuracy Score')\n",
    "\n",
    "plt.title('K Nearest Neighbour')\n",
    "\n",
    "plt.show()"
   ]
  },
  {
   "cell_type": "markdown",
   "metadata": {},
   "source": [
    "## Support Vector Machine"
   ]
  },
  {
   "cell_type": "code",
   "execution_count": 134,
   "metadata": {},
   "outputs": [],
   "source": [
    "from sklearn import svm"
   ]
  },
  {
   "cell_type": "code",
   "execution_count": 135,
   "metadata": {},
   "outputs": [
    {
     "name": "stdout",
     "output_type": "stream",
     "text": [
      "Accuracy score for Pclass is: 0.9026217228464419\n",
      "Accuracy score for Survived is: 0.7415730337078652\n",
      "Accuracy score for Sex is: 0.7265917602996255\n",
      "Accuracy score for SibSp is: 0.7490636704119851\n",
      "Accuracy score for Parch is: 0.797752808988764\n",
      "Accuracy score for Embarked is: 0.7677902621722846\n"
     ]
    }
   ],
   "source": [
    "for x in (\"Pclass\",\"Survived\",\"Sex\",\"SibSp\",\"Parch\",\"Embarked\"):\n",
    "    y = df1[x]\n",
    "    X = df1.drop([x],axis=1)\n",
    "    X_train,X_test,y_train,y_test = train_test_split(X,y,test_size=0.3,random_state = 0)\n",
    "    clf = svm.SVC(gamma=0.01,C=100)\n",
    "    clf.fit(X_train,y_train)\n",
    "    y_pred = clf.predict(X_test)\n",
    "    print(\"Accuracy score for\",x,\"is:\",accuracy_score(y_test,y_pred,normalize=True))"
   ]
  },
  {
   "cell_type": "code",
   "execution_count": 136,
   "metadata": {},
   "outputs": [
    {
     "data": {
      "image/png": "[encoded data removed]",
      "text/plain": [
       "<Figure size 432x288 with 1 Axes>"
      ]
     },
     "metadata": {
      "needs_background": "light"
     },
     "output_type": "display_data"
    }
   ],
   "source": [
    "x = [\"Pclass\",\"Survived\",\"Sex\",\"SibSp\",\"Parch\",\"Embarked\"]\n",
    "y = [0.9026217228464419,0.7415730337078652,0.7265917602996255,0.7490636704119851,0.797752808988764,0.7677902621722846]\n",
    "\n",
    "plt.plot(x, y)\n",
    "\n",
    "plt.xlabel('Variables')\n",
    "plt.ylabel('Accuracy Score')\n",
    "\n",
    "plt.title('SVM')\n",
    "\n",
    "plt.show()"
   ]
  }
 ],
 "metadata": {
  "kernelspec": {
   "display_name": "Python 3",
   "language": "python",
   "name": "python3"
  },
  "language_info": {
   "codemirror_mode": {
    "name": "ipython",
    "version": 3
   },
   "file_extension": ".py",
   "mimetype": "text/x-python",
   "name": "python",
   "nbconvert_exporter": "python",
   "pygments_lexer": "ipython3",
   "version": "3.7.4"
  },
  "toc": {
   "base_numbering": 1,
   "nav_menu": {},
   "number_sections": true,
   "sideBar": true,
   "skip_h1_title": false,
   "title_cell": "Table of Contents",
   "title_sidebar": "Contents",
   "toc_cell": false,
   "toc_position": {},
   "toc_section_display": true,
   "toc_window_display": false
  }
 },
 "nbformat": 4,
 "nbformat_minor": 2
}
