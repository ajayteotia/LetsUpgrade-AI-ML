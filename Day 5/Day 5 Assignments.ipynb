{
 "cells": [
  {
   "cell_type": "markdown",
   "metadata": {},
   "source": [
    "## Python program to find the first 20 non-even prime natural numbers"
   ]
  },
  {
   "cell_type": "code",
   "execution_count": 61,
   "metadata": {},
   "outputs": [
    {
     "name": "stdout",
     "output_type": "stream",
     "text": [
      " Enter the required prime numbers: 20\n",
      "First 20 non-even prime natural numbers are:\n",
      "3 5 7 11 13 17 19 23 29 31 37 41 43 47 53 59 61 67 71 73 "
     ]
    }
   ],
   "source": [
    "prime = int(input(\" Enter the required prime numbers: \"))\n",
    "no = range(1, prime*10)\n",
    "prime_no = []\n",
    "\n",
    "for x in no:\n",
    "    if x > 2 and len(prime_no) <= prime-1:\n",
    "        for i in range(2,x):\n",
    "            if (x%i) == 0:\n",
    "                break\n",
    "        else:\n",
    "            prime_no.append(x)\n",
    "            \n",
    "print(\"First\",prime, \"non-even prime natural numbers are:\")\n",
    "for z in prime_no:\n",
    "    print(z, end = \" \")\n",
    "    "
   ]
  },
  {
   "cell_type": "markdown",
   "metadata": {},
   "source": [
    "## Python program to implement 15 functions of string"
   ]
  },
  {
   "cell_type": "code",
   "execution_count": 77,
   "metadata": {},
   "outputs": [
    {
     "name": "stdout",
     "output_type": "stream",
     "text": [
      "Letsupgrade\n"
     ]
    }
   ],
   "source": [
    "s1 = \"letsupgrade\"\n",
    "\n",
    "x = s1.capitalize() #Converts the first character to upper case\n",
    "print(x)"
   ]
  },
  {
   "cell_type": "code",
   "execution_count": 79,
   "metadata": {},
   "outputs": [
    {
     "name": "stdout",
     "output_type": "stream",
     "text": [
      "letsupgrade\n"
     ]
    }
   ],
   "source": [
    "s1 = \"LetsUpgrade\"\n",
    "\n",
    "x = s1.casefold() #Converts string into lower case\n",
    "print(x)"
   ]
  },
  {
   "cell_type": "code",
   "execution_count": 80,
   "metadata": {},
   "outputs": [
    {
     "name": "stdout",
     "output_type": "stream",
     "text": [
      "False\n"
     ]
    }
   ],
   "source": [
    "s1 = \"Lets@Upgrade\"\n",
    "\n",
    "x = s1.isalnum() #Returns True if all characters in the string are alphanumeric\n",
    "print(x)"
   ]
  },
  {
   "cell_type": "code",
   "execution_count": 81,
   "metadata": {},
   "outputs": [
    {
     "name": "stdout",
     "output_type": "stream",
     "text": [
      "True\n"
     ]
    }
   ],
   "source": [
    "s1 = \"LetsUpgrade\"\n",
    "\n",
    "x = s1.isalpha() #Returns True if all characters in the string are in the alphabet\n",
    "print(x)"
   ]
  },
  {
   "cell_type": "code",
   "execution_count": 82,
   "metadata": {},
   "outputs": [
    {
     "name": "stdout",
     "output_type": "stream",
     "text": [
      "False\n"
     ]
    }
   ],
   "source": [
    "s1 = \"LetsUpgrade\"\n",
    "\n",
    "x = s1.isdecimal() #Returns True if all characters in the string are decimals\n",
    "print(x)"
   ]
  },
  {
   "cell_type": "code",
   "execution_count": 85,
   "metadata": {},
   "outputs": [
    {
     "name": "stdout",
     "output_type": "stream",
     "text": [
      "True\n"
     ]
    }
   ],
   "source": [
    "s1 = \"1050\"\n",
    "\n",
    "x = s1.isdigit() #Returns True if all characters in the string are digits\n",
    "print(x)"
   ]
  },
  {
   "cell_type": "code",
   "execution_count": 86,
   "metadata": {},
   "outputs": [
    {
     "name": "stdout",
     "output_type": "stream",
     "text": [
      "True\n"
     ]
    }
   ],
   "source": [
    "s1 = \"letsupgrade\"\n",
    "\n",
    "x = s1.islower() #Returns True if all characters in the string are lower case\n",
    "print(x)"
   ]
  },
  {
   "cell_type": "code",
   "execution_count": 87,
   "metadata": {},
   "outputs": [
    {
     "name": "stdout",
     "output_type": "stream",
     "text": [
      "False\n"
     ]
    }
   ],
   "source": [
    "s1 = \"letsupgrade\"\n",
    "\n",
    "x = s1.isupper() #Returns True if all characters in the string are upper case\n",
    "print(x)"
   ]
  },
  {
   "cell_type": "code",
   "execution_count": 93,
   "metadata": {},
   "outputs": [
    {
     "name": "stdout",
     "output_type": "stream",
     "text": [
      "('Lets learn ', 'Machine', ' Learning together')\n"
     ]
    }
   ],
   "source": [
    "s1 = \"Lets learn Machine Learning together\"\n",
    "\n",
    "x = s1.partition(\"Machine\") #Returns a tuple where the string is parted into three parts\n",
    "print(x)"
   ]
  },
  {
   "cell_type": "code",
   "execution_count": 95,
   "metadata": {},
   "outputs": [
    {
     "name": "stdout",
     "output_type": "stream",
     "text": [
      "LETSUPGRADE\n"
     ]
    }
   ],
   "source": [
    "s1 = \"letsupgrade\"\n",
    "\n",
    "x = s1.upper() #Converts a string into upper case\n",
    "print(x)"
   ]
  },
  {
   "cell_type": "code",
   "execution_count": 96,
   "metadata": {},
   "outputs": [
    {
     "name": "stdout",
     "output_type": "stream",
     "text": [
      "Welcome To Lets Upgrade\n"
     ]
    }
   ],
   "source": [
    "s1 = \"welcome to lets upgrade\"\n",
    "\n",
    "x = s1.title() #Converts the first character of each word to upper case\n",
    "print(x)"
   ]
  },
  {
   "cell_type": "code",
   "execution_count": 97,
   "metadata": {},
   "outputs": [
    {
     "name": "stdout",
     "output_type": "stream",
     "text": [
      "lETSuPGRADE\n"
     ]
    }
   ],
   "source": [
    "s1 = \"LetsUpgrade\"\n",
    "\n",
    "x = s1.swapcase() #Swaps cases, lower case becomes upper case and vice versa\n",
    "print(x)"
   ]
  },
  {
   "cell_type": "code",
   "execution_count": 98,
   "metadata": {},
   "outputs": [
    {
     "name": "stdout",
     "output_type": "stream",
     "text": [
      "True\n"
     ]
    }
   ],
   "source": [
    "s1 = \"Welcome to LetsUpgrade\"\n",
    "\n",
    "x = s1.startswith(\"Welcome\") #Returns true if the string starts with the specified value\n",
    "\n",
    "print(x)"
   ]
  },
  {
   "cell_type": "code",
   "execution_count": 99,
   "metadata": {},
   "outputs": [
    {
     "name": "stdout",
     "output_type": "stream",
     "text": [
      "['Welcome', 'to', 'LetsUpgrade']\n"
     ]
    }
   ],
   "source": [
    "s1 = \"Welcome to LetsUpgrade\"\n",
    "\n",
    "x = s1.split() #Splits the string at the specified separator, and returns a list\n",
    "\n",
    "print(x)"
   ]
  },
  {
   "cell_type": "code",
   "execution_count": 102,
   "metadata": {},
   "outputs": [
    {
     "name": "stdout",
     "output_type": "stream",
     "text": [
      "4\n"
     ]
    }
   ],
   "source": [
    "s1 = \"Welcome to LetsUpgrade\"\n",
    "\n",
    "x = s1.find(\"o\") #Searches the string for a specified value and returns the position of where it was found\n",
    "\n",
    "print(x)"
   ]
  },
  {
   "cell_type": "markdown",
   "metadata": {},
   "source": [
    "## Python program to check if the given string is a Palindrome or Anagram or None of them"
   ]
  },
  {
   "cell_type": "code",
   "execution_count": 69,
   "metadata": {},
   "outputs": [
    {
     "name": "stdout",
     "output_type": "stream",
     "text": [
      "Enter your first string: add\n",
      "Enter your second string: dad\n",
      "Strings are Anagram\n",
      "s2 string is palindrome\n"
     ]
    }
   ],
   "source": [
    "def check(s1,s2):\n",
    "    if (sorted(s1)==sorted(s2)):\n",
    "        print(\"Strings are Anagram\")\n",
    "    else:\n",
    "        print(\"Strings are not Anagram\")\n",
    "        \n",
    "    if(s1==s1[::-1]):\n",
    "        print(\"s1 string is palindrome\")\n",
    "        \n",
    "    if(s2==s2[::-1]):\n",
    "        print(\"s2 string is palindrome\")\n",
    "    \n",
    "s1 = input(\"Enter your first string: \")\n",
    "s2 = input(\"Enter your second string: \")\n",
    "\n",
    "check(s1,s2)"
   ]
  },
  {
   "cell_type": "markdown",
   "metadata": {},
   "source": [
    "## Python's user defined function that removes all the additional characters from the string and converts it finally to lower case using built-in lower()"
   ]
  },
  {
   "cell_type": "code",
   "execution_count": 7,
   "metadata": {},
   "outputs": [
    {
     "name": "stdout",
     "output_type": "stream",
     "text": [
      "Enter the required string: Dr. Darshan Ingle@AI-ML Trainer\n",
      "drdarshaningleaimltrainer"
     ]
    }
   ],
   "source": [
    "st1 = input(\"Enter the required string: \")\n",
    "\n",
    "for i in st1:\n",
    "    if i.isalnum():\n",
    "        print (i.lower(), end = \"\")"
   ]
  }
 ],
 "metadata": {
  "kernelspec": {
   "display_name": "Python 3",
   "language": "python",
   "name": "python3"
  },
  "language_info": {
   "codemirror_mode": {
    "name": "ipython",
    "version": 3
   },
   "file_extension": ".py",
   "mimetype": "text/x-python",
   "name": "python",
   "nbconvert_exporter": "python",
   "pygments_lexer": "ipython3",
   "version": "3.7.4"
  },
  "toc": {
   "base_numbering": 1,
   "nav_menu": {},
   "number_sections": true,
   "sideBar": true,
   "skip_h1_title": false,
   "title_cell": "Table of Contents",
   "title_sidebar": "Contents",
   "toc_cell": false,
   "toc_position": {},
   "toc_section_display": true,
   "toc_window_display": false
  }
 },
 "nbformat": 4,
 "nbformat_minor": 2
}
