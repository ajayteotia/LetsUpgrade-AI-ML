{
 "cells": [
  {
   "cell_type": "markdown",
   "metadata": {},
   "source": [
    "## Implement a Python program to demonstrate addition, subtraction, multiplication, division, floor division and modulo operations to be performed on complex numbers"
   ]
  },
  {
   "cell_type": "markdown",
   "metadata": {},
   "source": [
    "___1. We can perform operations like Addition, Substraction, Multiplication and Division on Complex Numbers___\n"
   ]
  },
  {
   "cell_type": "markdown",
   "metadata": {},
   "source": [
    "___2.If we will try to perform Modulus or Floor Division on Complex numbers directly, it will give us an error. Still if we wish to perform modulus and floor division operation on complex number, we have to consider real numbers first, then convert them into complex type ___"
   ]
  },
  {
   "cell_type": "code",
   "execution_count": 31,
   "metadata": {},
   "outputs": [
    {
     "name": "stdout",
     "output_type": "stream",
     "text": [
      "Enter the first complex number:5+6j\n",
      "Enter the second complex number:8-6j\n",
      "Addition of two complex numbers :  (13+0j)\n",
      "Subtraction of two complex numbers :  (-3+12j)\n",
      "Multiplication of two complex numbers :  (76+18j)\n",
      "Division of two complex numbers :  (0.04+0.78j)\n"
     ]
    }
   ],
   "source": [
    "f1 = complex(input(\"Enter the first complex number:\"))\n",
    "f2 = complex(input(\"Enter the second complex number:\"))\n",
    "\n",
    "add = f1 + f2\n",
    "sub = f1 - f2\n",
    "mul = f1 * f2\n",
    "div = f1 / f2\n",
    "\n",
    "print(\"Addition of two complex numbers : \", add)\n",
    "print(\"Subtraction of two complex numbers : \", sub)\n",
    "print(\"Multiplication of two complex numbers : \", mul)\n",
    "print(\"Division of two complex numbers : \", div)"
   ]
  },
  {
   "cell_type": "markdown",
   "metadata": {},
   "source": [
    "## Implement a Python program on range() functions and its parameters"
   ]
  },
  {
   "cell_type": "markdown",
   "metadata": {},
   "source": [
    "___Range() : It is an iterable function which is used to return immutable sequence of numbers ranging from Start Index to End Index___"
   ]
  },
  {
   "cell_type": "markdown",
   "metadata": {},
   "source": [
    "___Range() function take 3 arguments as mentioned below:___\n"
   ]
  },
  {
   "cell_type": "markdown",
   "metadata": {},
   "source": [
    "___1. Start Index: Sequence starts from the SI. Default value of Start Index is 0___"
   ]
  },
  {
   "cell_type": "markdown",
   "metadata": {},
   "source": [
    "___2. End Index: Sequence ends at (EI - 1). This argument must be provided___"
   ]
  },
  {
   "cell_type": "markdown",
   "metadata": {},
   "source": [
    "___3. Step: This argument determines about the increment and decrement in the sequence between all the integers. Default value of Step is 1___"
   ]
  },
  {
   "cell_type": "markdown",
   "metadata": {},
   "source": [
    "__Example: range(n) ---> range(0,n,1) ---> Returns value from 0 to n-1 with the step increment of +1__"
   ]
  },
  {
   "cell_type": "code",
   "execution_count": 41,
   "metadata": {},
   "outputs": [
    {
     "name": "stdout",
     "output_type": "stream",
     "text": [
      "0\n",
      "1\n",
      "2\n",
      "3\n",
      "4\n"
     ]
    }
   ],
   "source": [
    "for x in range(5): #Here the Start index is 0, End index is (5-1): 4 and Step is +1\n",
    "    print (x)"
   ]
  },
  {
   "cell_type": "code",
   "execution_count": 45,
   "metadata": {},
   "outputs": [
    {
     "name": "stdout",
     "output_type": "stream",
     "text": [
      "Sum of all the intergers after the increment of 6 is: 700\n"
     ]
    }
   ],
   "source": [
    "sum = 0\n",
    "\n",
    "for x in range (2,40,6):       \n",
    "        sum = sum + x\n",
    "    \n",
    "print (\"Sum of all the intergers after the increment of 6 is:\",sum)"
   ]
  },
  {
   "cell_type": "markdown",
   "metadata": {},
   "source": [
    "## Consider two numbers. Perform their subtraction and if the result of subtraction is greater than 25, print their multiplication result else print their division result"
   ]
  },
  {
   "cell_type": "code",
   "execution_count": 44,
   "metadata": {},
   "outputs": [
    {
     "name": "stdout",
     "output_type": "stream",
     "text": [
      "Enter your first number: 56\n",
      "Enter your second number: 45\n",
      "Your result is:  1.2444444444444445\n"
     ]
    }
   ],
   "source": [
    "num1 = float (input (\"Enter your first number: \"))\n",
    "num2 = float (input (\"Enter your second number: \"))\n",
    "\n",
    "if (num1 - num2) > 25:\n",
    "    print (\"Your result is: \", (num1 * num2))\n",
    "    \n",
    "else: \n",
    "    print (\"Your result is: \", (num1 / num2))"
   ]
  },
  {
   "cell_type": "markdown",
   "metadata": {},
   "source": [
    "## Consider a list of 10 elements of integer values. If the number in the list is divisible by 2, print the result as \"square of that number minus 2"
   ]
  },
  {
   "cell_type": "code",
   "execution_count": 15,
   "metadata": {},
   "outputs": [
    {
     "name": "stdout",
     "output_type": "stream",
     "text": [
      "Square of 2 minus 2 is: 2\n",
      "Square of 4 minus 2 is: 14\n",
      "Square of 6 minus 2 is: 34\n",
      "Square of 8 minus 2 is: 62\n",
      "Square of -78 minus 2 is: 6082\n",
      "Square of 96 minus 2 is: 9214\n",
      "Square of 14 minus 2 is: 194\n"
     ]
    }
   ],
   "source": [
    "list1 = [2,4,6,8,9,-78,45,96,1,14]\n",
    "\n",
    "for x in list1:\n",
    "    if (x%2 == 0):\n",
    "        print (\"Square of\", x, \"minus 2 is:\",((x**2)-2))"
   ]
  },
  {
   "cell_type": "markdown",
   "metadata": {},
   "source": [
    "## Consider a list of 10 elements. Print all the elements in the list which are greater than 7 when that number is divided 2"
   ]
  },
  {
   "cell_type": "code",
   "execution_count": 20,
   "metadata": {},
   "outputs": [
    {
     "name": "stdout",
     "output_type": "stream",
     "text": [
      "16 is greater than 7 when divided by 2\n",
      "17 is greater than 7 when divided by 2\n"
     ]
    }
   ],
   "source": [
    "list1 = [2,4,6,8,-10,12,14,16,17,-18]\n",
    "\n",
    "for x in list1:\n",
    "    if (x/2) > 7:\n",
    "        print (x,\"is greater than 7 when divided by 2\")"
   ]
  }
 ],
 "metadata": {
  "kernelspec": {
   "display_name": "Python 3",
   "language": "python",
   "name": "python3"
  },
  "language_info": {
   "codemirror_mode": {
    "name": "ipython",
    "version": 3
   },
   "file_extension": ".py",
   "mimetype": "text/x-python",
   "name": "python",
   "nbconvert_exporter": "python",
   "pygments_lexer": "ipython3",
   "version": "3.7.4"
  }
 },
 "nbformat": 4,
 "nbformat_minor": 2
}
