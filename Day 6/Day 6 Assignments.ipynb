{
 "cells": [
  {
   "cell_type": "markdown",
   "metadata": {},
   "source": [
    "## Write program to print the company name from an email address in format of \"username@companyname.com\""
   ]
  },
  {
   "cell_type": "code",
   "execution_count": 1,
   "metadata": {},
   "outputs": [
    {
     "name": "stdout",
     "output_type": "stream",
     "text": [
      "Enter your email address: john@google.com\n",
      "google"
     ]
    }
   ],
   "source": [
    "email= input(\"Enter your email address: \")\n",
    "\n",
    "add = email.index(\"@\")\n",
    "add1 = email.index(\".\")\n",
    "    \n",
    "print(email[add+1 : add1], end='')"
   ]
  },
  {
   "cell_type": "markdown",
   "metadata": {},
   "source": [
    "## Write a program that accepts a comma separated sequence of words as input and prints the words in a comma separated sequence after sorting them alphabetically"
   ]
  },
  {
   "cell_type": "code",
   "execution_count": 46,
   "metadata": {},
   "outputs": [
    {
     "name": "stdout",
     "output_type": "stream",
     "text": [
      "Enter the comma separated sequence of words: without,hello,bag,world\n",
      "Comma separated sequence after sorting is:  bag,hello,without,world\n"
     ]
    }
   ],
   "source": [
    "word1 = input(\"Enter the comma separated sequence of words: \")\n",
    "\n",
    "word1 = list(map(lambda x:x, word1.split(',')))\n",
    "word1.sort()\n",
    "\n",
    "print(\"Comma separated sequence after sorting is: \",','.join(word1))"
   ]
  },
  {
   "cell_type": "markdown",
   "metadata": {},
   "source": [
    "## Create Jupyter Notebook for Sets"
   ]
  },
  {
   "cell_type": "markdown",
   "metadata": {},
   "source": [
    "___Set is a collection which is unordered and unindexed. Sets are written with curly brackets.___"
   ]
  },
  {
   "cell_type": "markdown",
   "metadata": {},
   "source": [
    "___Set is an unordered collection data type that is iterable, mutable and has no duplicate elements.___"
   ]
  },
  {
   "cell_type": "code",
   "execution_count": 17,
   "metadata": {},
   "outputs": [
    {
     "name": "stdout",
     "output_type": "stream",
     "text": [
      "{'machine learning', 'python', 'numpy', 'pandas'}\n"
     ]
    }
   ],
   "source": [
    "s1 = {\"python\", \"numpy\", \"pandas\"}\n",
    "\n",
    "s1.add(\"machine learning\") #Adds an element to the set\n",
    "\n",
    "print(s1) "
   ]
  },
  {
   "cell_type": "code",
   "execution_count": 19,
   "metadata": {},
   "outputs": [
    {
     "name": "stdout",
     "output_type": "stream",
     "text": [
      "set()\n"
     ]
    }
   ],
   "source": [
    "s2 = {\"python\", \"numpy\", \"pandas\"}\n",
    "\n",
    "s2.clear() #Removes all the elements from the set\n",
    "\n",
    "print(s2) "
   ]
  },
  {
   "cell_type": "code",
   "execution_count": 22,
   "metadata": {},
   "outputs": [
    {
     "name": "stdout",
     "output_type": "stream",
     "text": [
      "{'numpy', 'pandas'}\n"
     ]
    }
   ],
   "source": [
    "s1 = {\"python\", \"numpy\", \"pandas\"}\n",
    "s2 = {\"AI\", \"ML\", \"python\"}\n",
    "\n",
    "x = s1.difference(s2) #Returns a set containing the difference between two or more sets\n",
    "\n",
    "print(x) "
   ]
  },
  {
   "cell_type": "code",
   "execution_count": 24,
   "metadata": {},
   "outputs": [
    {
     "name": "stdout",
     "output_type": "stream",
     "text": [
      "{'python', 'pandas'}\n"
     ]
    }
   ],
   "source": [
    "s1 = {\"python\", \"numpy\", \"pandas\"}\n",
    "\n",
    "s1.discard(\"numpy\") #Remove the specified item\n",
    "\n",
    "print(s1) "
   ]
  },
  {
   "cell_type": "code",
   "execution_count": 26,
   "metadata": {},
   "outputs": [
    {
     "name": "stdout",
     "output_type": "stream",
     "text": [
      "{'python'}\n"
     ]
    }
   ],
   "source": [
    "s1 = {\"python\", \"numpy\", \"pandas\"}\n",
    "s2 = {\"AI\", \"ML\", \"python\"}\n",
    "\n",
    "x = s1.intersection(s2) #Returns a set, that is the intersection of two other sets\n",
    "\n",
    "print(x) "
   ]
  },
  {
   "cell_type": "code",
   "execution_count": 29,
   "metadata": {},
   "outputs": [
    {
     "name": "stdout",
     "output_type": "stream",
     "text": [
      "True\n"
     ]
    }
   ],
   "source": [
    "s1 = {\"python\", \"numpy\", \"pandas\"}\n",
    "s2 = {\"AI\", \"ML\", \"DS\"}\n",
    "\n",
    "x = s1.isdisjoint(s2) #Returns whether two sets have a intersection or not\n",
    "\n",
    "print(x) "
   ]
  },
  {
   "cell_type": "code",
   "execution_count": 32,
   "metadata": {},
   "outputs": [
    {
     "name": "stdout",
     "output_type": "stream",
     "text": [
      "True\n"
     ]
    }
   ],
   "source": [
    "s1 = {\"python\", \"numpy\", \"pandas\"}\n",
    "s2 = {\"AI\", \"ML\", \"python\", \"numpy\", \"pandas\", \"DS\"}\n",
    "\n",
    "x = s1.issubset(s2) #Returns whether another set contains this set or not\n",
    "\n",
    "print(x) "
   ]
  },
  {
   "cell_type": "code",
   "execution_count": 36,
   "metadata": {},
   "outputs": [
    {
     "name": "stdout",
     "output_type": "stream",
     "text": [
      "{'numpy', 'pandas'}\n"
     ]
    }
   ],
   "source": [
    "s1 = {\"python\", \"numpy\", \"pandas\"}\n",
    "\n",
    "s1.pop() #Removes an element from the set\n",
    "\n",
    "print(s1) "
   ]
  },
  {
   "cell_type": "code",
   "execution_count": 38,
   "metadata": {},
   "outputs": [
    {
     "name": "stdout",
     "output_type": "stream",
     "text": [
      "{'python', 'pandas'}\n"
     ]
    }
   ],
   "source": [
    "s1 = {\"python\", \"numpy\", \"pandas\"}\n",
    "\n",
    "s1.remove(\"numpy\") #Removes the specified element\n",
    "print(s1) "
   ]
  },
  {
   "cell_type": "code",
   "execution_count": 39,
   "metadata": {},
   "outputs": [
    {
     "name": "stdout",
     "output_type": "stream",
     "text": [
      "{'ML', 'numpy', 'AI', 'pandas'}\n"
     ]
    }
   ],
   "source": [
    "s1 = {\"python\", \"numpy\", \"pandas\"}\n",
    "s2 = {\"AI\", \"ML\", \"python\"}\n",
    "\n",
    "x = s1.symmetric_difference(s2) #Returns a set with the symmetric differences of two sets\n",
    "print(x) "
   ]
  },
  {
   "cell_type": "code",
   "execution_count": 41,
   "metadata": {},
   "outputs": [
    {
     "name": "stdout",
     "output_type": "stream",
     "text": [
      "{'ML', 'AI', 'numpy', 'python', 'pandas'}\n"
     ]
    }
   ],
   "source": [
    "s1 = {\"python\", \"numpy\", \"pandas\"}\n",
    "s2 = {\"AI\", \"ML\", \"python\"}\n",
    "\n",
    "x = s1.union(s2) #Return a set containing the union of sets\n",
    "print(x) "
   ]
  },
  {
   "cell_type": "markdown",
   "metadata": {},
   "source": [
    "## From a list of n-1 numbers ranging from 1 to n, find the missing number in which there are no duplicates"
   ]
  },
  {
   "cell_type": "code",
   "execution_count": 82,
   "metadata": {},
   "outputs": [
    {
     "name": "stdout",
     "output_type": "stream",
     "text": [
      "Enter your list: 1 2 4 6 3 7 8\n",
      "Missing numbers from the above list:  5 "
     ]
    }
   ],
   "source": [
    "l1 = list(map(int, input(\"Enter your list: \").split()))\n",
    "for i in range (1,l1[-1]+1):\n",
    "    if i not in l1:\n",
    "        print(\"Missing numbers from the above list: \",i, end = ' ')"
   ]
  },
  {
   "cell_type": "markdown",
   "metadata": {},
   "source": [
    "## Write a program to print list L after removing all duplicate values with original order reserved"
   ]
  },
  {
   "cell_type": "code",
   "execution_count": 63,
   "metadata": {},
   "outputs": [
    {
     "name": "stdout",
     "output_type": "stream",
     "text": [
      "Enter your list: 12 24 35 24 88 120 155 88 120 155\n",
      "List after removing duplicates is: 12 24 35 88 120 155\n"
     ]
    }
   ],
   "source": [
    "l = list(map(int, input(\"Enter your list: \").strip().split()))\n",
    "\n",
    "x = sorted(set(l))\n",
    "x = list(map(str,x))\n",
    "\n",
    "print(\"List after removing duplicates is:\", ' '.join(x))"
   ]
  }
 ],
 "metadata": {
  "kernelspec": {
   "display_name": "Python 3",
   "language": "python",
   "name": "python3"
  },
  "language_info": {
   "codemirror_mode": {
    "name": "ipython",
    "version": 3
   },
   "file_extension": ".py",
   "mimetype": "text/x-python",
   "name": "python",
   "nbconvert_exporter": "python",
   "pygments_lexer": "ipython3",
   "version": "3.7.4"
  },
  "toc": {
   "base_numbering": 1,
   "nav_menu": {},
   "number_sections": true,
   "sideBar": true,
   "skip_h1_title": false,
   "title_cell": "Table of Contents",
   "title_sidebar": "Contents",
   "toc_cell": false,
   "toc_position": {},
   "toc_section_display": true,
   "toc_window_display": false
  }
 },
 "nbformat": 4,
 "nbformat_minor": 2
}
