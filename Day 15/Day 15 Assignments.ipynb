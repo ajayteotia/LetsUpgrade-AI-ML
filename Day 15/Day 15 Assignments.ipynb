{
 "cells": [
  {
   "cell_type": "markdown",
   "metadata": {},
   "source": [
    "## Numpy"
   ]
  },
  {
   "cell_type": "code",
   "execution_count": 2,
   "metadata": {},
   "outputs": [],
   "source": [
    "import numpy as np"
   ]
  },
  {
   "cell_type": "markdown",
   "metadata": {},
   "source": [
    "## Create a 3x3x3 array with random values "
   ]
  },
  {
   "cell_type": "code",
   "execution_count": 3,
   "metadata": {},
   "outputs": [
    {
     "name": "stdout",
     "output_type": "stream",
     "text": [
      "[[[0.69493806 0.11867039 0.76577398]\n",
      "  [0.90505587 0.19873791 0.70350411]\n",
      "  [0.35489261 0.32335684 0.95352481]]\n",
      "\n",
      " [[0.49493113 0.13946142 0.58737045]\n",
      "  [0.25762275 0.37611852 0.71793581]\n",
      "  [0.68153546 0.77571695 0.09526304]]\n",
      "\n",
      " [[0.74585917 0.83002576 0.12506117]\n",
      "  [0.08900569 0.72795292 0.18794776]\n",
      "  [0.40241556 0.5748254  0.12916349]]]\n",
      "(3, 3, 3)\n"
     ]
    }
   ],
   "source": [
    "x = np.random.random((3,3,3))\n",
    "\n",
    "print(x)\n",
    "print(x.shape)"
   ]
  },
  {
   "cell_type": "markdown",
   "metadata": {},
   "source": [
    "## Create a 5x5 matrix with values 1,2,3,4 just below the diagonal"
   ]
  },
  {
   "cell_type": "code",
   "execution_count": 4,
   "metadata": {},
   "outputs": [
    {
     "name": "stdout",
     "output_type": "stream",
     "text": [
      "[[0 0 0 0 0]\n",
      " [1 0 0 0 0]\n",
      " [0 2 0 0 0]\n",
      " [0 0 3 0 0]\n",
      " [0 0 0 4 0]]\n"
     ]
    }
   ],
   "source": [
    "x = np.diag([1,2,3,4],-1)\n",
    "print(x)"
   ]
  },
  {
   "cell_type": "markdown",
   "metadata": {},
   "source": [
    "## Create a 8x8 matrix and fill it with a checker-board pattern"
   ]
  },
  {
   "cell_type": "code",
   "execution_count": 5,
   "metadata": {},
   "outputs": [
    {
     "name": "stdout",
     "output_type": "stream",
     "text": [
      "[[0 1 0 1 0 1 0 1]\n",
      " [1 0 1 0 1 0 1 0]\n",
      " [0 1 0 1 0 1 0 1]\n",
      " [1 0 1 0 1 0 1 0]\n",
      " [0 1 0 1 0 1 0 1]\n",
      " [1 0 1 0 1 0 1 0]\n",
      " [0 1 0 1 0 1 0 1]\n",
      " [1 0 1 0 1 0 1 0]]\n"
     ]
    }
   ],
   "source": [
    "x = np.zeros((8,8),dtype = int)\n",
    "\n",
    "x[1::2,::2] = 1\n",
    "x[::2,1::2] = 1\n",
    "\n",
    "print(x)"
   ]
  },
  {
   "cell_type": "markdown",
   "metadata": {},
   "source": [
    "## Normalize a 5x5 random matrix"
   ]
  },
  {
   "cell_type": "code",
   "execution_count": 6,
   "metadata": {},
   "outputs": [
    {
     "name": "stdout",
     "output_type": "stream",
     "text": [
      "[[0.37401778 0.51433561 0.55755688 0.46553686 0.93141009]\n",
      " [0.58471993 0.29753256 0.57936411 0.68032204 0.4709351 ]\n",
      " [0.3535105  0.81299333 0.39289144 0.         0.44328793]\n",
      " [1.         0.38161706 0.31103367 0.26500068 0.84251147]\n",
      " [0.31514269 0.50754797 0.75893262 0.99503981 0.77475139]]\n"
     ]
    }
   ],
   "source": [
    "x= np.random.random((5,5))\n",
    "\n",
    "xmax, xmin = x.max(), x.min()\n",
    "x = (x - xmin)/(xmax - xmin)\n",
    "\n",
    "print(x)"
   ]
  },
  {
   "cell_type": "markdown",
   "metadata": {},
   "source": [
    "## Find common values between two arrays"
   ]
  },
  {
   "cell_type": "code",
   "execution_count": 9,
   "metadata": {},
   "outputs": [
    {
     "name": "stdout",
     "output_type": "stream",
     "text": [
      "[10 40]\n"
     ]
    }
   ],
   "source": [
    "arr1 = np.array([0, 10, 20, 40, 60])\n",
    "\n",
    "arr2 = np.array([10, 30, 40])\n",
    "\n",
    "print(np.intersect1d(arr1, arr2))"
   ]
  },
  {
   "cell_type": "markdown",
   "metadata": {},
   "source": [
    "## Get the dates of yesterday, today and tomorrow"
   ]
  },
  {
   "cell_type": "code",
   "execution_count": 10,
   "metadata": {},
   "outputs": [
    {
     "name": "stdout",
     "output_type": "stream",
     "text": [
      "Yesterday:  2020-07-29\n",
      "Today:  2020-07-30\n",
      "Tomorrow:  2020-07-31\n"
     ]
    }
   ],
   "source": [
    "yesterday = np.datetime64('today') - np.timedelta64(1)\n",
    "print(\"Yesterday: \",yesterday)\n",
    "\n",
    "today     = np.datetime64('today')\n",
    "print(\"Today: \",today)\n",
    "\n",
    "tomorrow  = np.datetime64('today') + np.timedelta64(1)\n",
    "print(\"Tomorrow: \",tomorrow)"
   ]
  },
  {
   "cell_type": "markdown",
   "metadata": {},
   "source": [
    "## Consider two random array A and B, check if they are equal"
   ]
  },
  {
   "cell_type": "code",
   "execution_count": 12,
   "metadata": {},
   "outputs": [
    {
     "name": "stdout",
     "output_type": "stream",
     "text": [
      "[1 0 2 0 1 1]\n",
      "[2 1 0 0 1 1]\n",
      "False\n"
     ]
    }
   ],
   "source": [
    "x = np.random.randint(0,3,6)\n",
    "print(x)\n",
    "\n",
    "y = np.random.randint(0,3,6)\n",
    "print(y)\n",
    "\n",
    "arr_equal = np.allclose(x, y)\n",
    "print(arr_equal)"
   ]
  },
  {
   "cell_type": "markdown",
   "metadata": {},
   "source": [
    "## Create random vector of size 10 and replace the maximum value by 0"
   ]
  },
  {
   "cell_type": "code",
   "execution_count": 14,
   "metadata": {},
   "outputs": [
    {
     "name": "stdout",
     "output_type": "stream",
     "text": [
      "[0.07540449 0.95905473 0.1909742  0.34773467 0.83616119 0.29517742\n",
      " 0.4602414  0.63513764 0.73331313 0.68652534]\n",
      "Max value after getting replaced by 0:\n",
      "[0.07540449 0.         0.1909742  0.34773467 0.83616119 0.29517742\n",
      " 0.4602414  0.63513764 0.73331313 0.68652534]\n"
     ]
    }
   ],
   "source": [
    "x = np.random.random(10)\n",
    "print(x)\n",
    "\n",
    "x[x.argmax()] = 0\n",
    "\n",
    "print(\"Max value after getting replaced by 0:\")\n",
    "print(x)"
   ]
  },
  {
   "cell_type": "markdown",
   "metadata": {},
   "source": [
    "## Print all the values of an array"
   ]
  },
  {
   "cell_type": "code",
   "execution_count": 15,
   "metadata": {},
   "outputs": [
    {
     "name": "stdout",
     "output_type": "stream",
     "text": [
      "[[0. 0. 0. 0. 0. 0. 0. 0. 0. 0. 0. 0. 0. 0. 0. 0.]\n",
      " [0. 0. 0. 0. 0. 0. 0. 0. 0. 0. 0. 0. 0. 0. 0. 0.]\n",
      " [0. 0. 0. 0. 0. 0. 0. 0. 0. 0. 0. 0. 0. 0. 0. 0.]\n",
      " [0. 0. 0. 0. 0. 0. 0. 0. 0. 0. 0. 0. 0. 0. 0. 0.]\n",
      " [0. 0. 0. 0. 0. 0. 0. 0. 0. 0. 0. 0. 0. 0. 0. 0.]\n",
      " [0. 0. 0. 0. 0. 0. 0. 0. 0. 0. 0. 0. 0. 0. 0. 0.]\n",
      " [0. 0. 0. 0. 0. 0. 0. 0. 0. 0. 0. 0. 0. 0. 0. 0.]\n",
      " [0. 0. 0. 0. 0. 0. 0. 0. 0. 0. 0. 0. 0. 0. 0. 0.]\n",
      " [0. 0. 0. 0. 0. 0. 0. 0. 0. 0. 0. 0. 0. 0. 0. 0.]\n",
      " [0. 0. 0. 0. 0. 0. 0. 0. 0. 0. 0. 0. 0. 0. 0. 0.]\n",
      " [0. 0. 0. 0. 0. 0. 0. 0. 0. 0. 0. 0. 0. 0. 0. 0.]\n",
      " [0. 0. 0. 0. 0. 0. 0. 0. 0. 0. 0. 0. 0. 0. 0. 0.]\n",
      " [0. 0. 0. 0. 0. 0. 0. 0. 0. 0. 0. 0. 0. 0. 0. 0.]\n",
      " [0. 0. 0. 0. 0. 0. 0. 0. 0. 0. 0. 0. 0. 0. 0. 0.]\n",
      " [0. 0. 0. 0. 0. 0. 0. 0. 0. 0. 0. 0. 0. 0. 0. 0.]\n",
      " [0. 0. 0. 0. 0. 0. 0. 0. 0. 0. 0. 0. 0. 0. 0. 0.]]\n"
     ]
    }
   ],
   "source": [
    "x = np.set_printoptions(threshold=float(\"inf\"))\n",
    "x = np.zeros((16,16))\n",
    "print(x)"
   ]
  },
  {
   "cell_type": "markdown",
   "metadata": {},
   "source": [
    "## Subtract the mean of each row of a matrix"
   ]
  },
  {
   "cell_type": "code",
   "execution_count": 16,
   "metadata": {},
   "outputs": [
    {
     "name": "stdout",
     "output_type": "stream",
     "text": [
      "[[0.14581856 0.15355549 0.79059066 0.81297291 0.95885485 0.80685148\n",
      "  0.53835749 0.83229207 0.68682102 0.01687852]\n",
      " [0.17103119 0.48008502 0.4683178  0.58997893 0.04809995 0.57893382\n",
      "  0.31824256 0.5089116  0.56152934 0.07107695]\n",
      " [0.34934974 0.4627351  0.01695905 0.66720901 0.04980089 0.022028\n",
      "  0.3068177  0.790424   0.1608805  0.08715476]\n",
      " [0.14104608 0.99386945 0.33230183 0.03013478 0.64273152 0.76296677\n",
      "  0.95529125 0.75277613 0.56061235 0.21503024]\n",
      " [0.63588863 0.14439851 0.10630075 0.17382655 0.46027375 0.53384265\n",
      "  0.7220405  0.35495135 0.17467683 0.73975541]]\n",
      "[[-0.42848075 -0.42074381  0.21629136  0.2386736   0.38455555  0.23255217\n",
      "  -0.03594181  0.25799276  0.11252171 -0.55742079]\n",
      " [-0.20858952  0.1004643   0.08869709  0.21035821 -0.33152077  0.1993131\n",
      "  -0.06137815  0.12929089  0.18190862 -0.30854377]\n",
      " [ 0.05801386  0.17139922 -0.27437683  0.37587313 -0.24153498 -0.26930788\n",
      "   0.01548183  0.49908813 -0.13045537 -0.20418111]\n",
      " [-0.39762996  0.45519341 -0.20637421 -0.50854126  0.10405548  0.22429073\n",
      "   0.41661521  0.21410009  0.02193631 -0.3236458 ]\n",
      " [ 0.23129313 -0.26019698 -0.29829474 -0.23076894  0.05567825  0.12924716\n",
      "   0.317445   -0.04964414 -0.22991866  0.33515991]]\n"
     ]
    }
   ],
   "source": [
    "x = np.random.rand(5, 10)\n",
    "print(x)\n",
    "\n",
    "y = x - x.mean(axis=1, keepdims=True)\n",
    "\n",
    "print(y)"
   ]
  },
  {
   "cell_type": "markdown",
   "metadata": {},
   "source": [
    "## Consider a given vector, add 1 to each element indexed by a second vector"
   ]
  },
  {
   "cell_type": "code",
   "execution_count": 18,
   "metadata": {},
   "outputs": [
    {
     "name": "stdout",
     "output_type": "stream",
     "text": [
      "[4. 3. 1. 3. 2. 3. 6. 3. 2. 3.]\n"
     ]
    }
   ],
   "source": [
    "x = np.ones(10)\n",
    "y = np.random.randint(0,len(x),20)\n",
    "x += np.bincount(y, minlength=len(x))\n",
    "print(x)"
   ]
  },
  {
   "cell_type": "markdown",
   "metadata": {},
   "source": [
    "## Get the diagonal of a dot product"
   ]
  },
  {
   "cell_type": "code",
   "execution_count": 34,
   "metadata": {},
   "outputs": [
    {
     "name": "stdout",
     "output_type": "stream",
     "text": [
      "[[0.53699528 0.68396141 0.93217974 0.78858461 0.72687059]\n",
      " [0.3982723  0.10977761 0.87674548 0.861809   0.24536142]\n",
      " [0.54832591 0.33043261 0.03388396 0.29834112 0.0880128 ]\n",
      " [0.60874923 0.34524382 0.40217554 0.73526464 0.65622664]\n",
      " [0.88192422 0.13375732 0.79905009 0.55515442 0.01618558]]\n",
      "[[0.09608609 0.11489123 0.12655463 0.76592003 0.41972517]\n",
      " [0.21307919 0.07310331 0.31074894 0.85502865 0.83800473]\n",
      " [0.82825339 0.20129143 0.5871445  0.84671863 0.28994579]\n",
      " [0.97698578 0.97986256 0.04736006 0.75008968 0.33200788]\n",
      " [0.05606925 0.49159789 0.10073302 0.3376561  0.81305357]]\n",
      "[1.78060779 1.19533798 0.21496479 1.87506945 0.91141166]\n"
     ]
    }
   ],
   "source": [
    "x = np.random.rand(5, 5)\n",
    "print(x)\n",
    "y = np.random.rand(5, 5)\n",
    "print(y)\n",
    "z = np.dot(x,y).diagonal()\n",
    "print(z)"
   ]
  },
  {
   "cell_type": "markdown",
   "metadata": {},
   "source": [
    "## Find the most frequent value in an array"
   ]
  },
  {
   "cell_type": "code",
   "execution_count": 19,
   "metadata": {},
   "outputs": [
    {
     "name": "stdout",
     "output_type": "stream",
     "text": [
      "[6 6 9 9 1 1 0 5 3 8 7 5 5 4 4 7 6 2 2 5 2 4 4 8 6 6 2 3 9 5 6 3 5 7 3 5 0\n",
      " 6 7 9]\n",
      "5\n"
     ]
    }
   ],
   "source": [
    "x = np.random.randint(0, 10, 40)\n",
    "print(x)\n",
    "\n",
    "print(np.bincount(x).argmax())"
   ]
  },
  {
   "cell_type": "markdown",
   "metadata": {},
   "source": [
    "## Get the n largest values of an array"
   ]
  },
  {
   "cell_type": "code",
   "execution_count": 23,
   "metadata": {},
   "outputs": [
    {
     "name": "stdout",
     "output_type": "stream",
     "text": [
      "[ 0  1  2  3  4  5  6  7  8  9 10 11 12 13 14]\n",
      "[12 13 14]\n"
     ]
    }
   ],
   "source": [
    "x = np.arange(15)\n",
    "print(x)\n",
    "\n",
    "np.random.shuffle(x)\n",
    "n = 3\n",
    "\n",
    "print (x[np.argsort(x)[-n:]])"
   ]
  },
  {
   "cell_type": "markdown",
   "metadata": {},
   "source": [
    "## Create a record array from a regular array"
   ]
  },
  {
   "cell_type": "code",
   "execution_count": 24,
   "metadata": {},
   "outputs": [
    {
     "name": "stdout",
     "output_type": "stream",
     "text": [
      "(1, 'Red', 12.2)\n",
      "(2, 'Green', 15.)\n",
      "(3, 'White', 20.)\n"
     ]
    }
   ],
   "source": [
    "x=np.array([1,2,3,4])\n",
    "y=np.array(['Red','Green','White','Orange'])\n",
    "z=np.array([12.20,15,20,40])\n",
    "\n",
    "result= np.core.records.fromarrays([x,y,z],names='a,b,c')\n",
    "\n",
    "print(result[0])\n",
    "print(result[1])\n",
    "print(result[2])"
   ]
  }
 ],
 "metadata": {
  "kernelspec": {
   "display_name": "Python 3",
   "language": "python",
   "name": "python3"
  },
  "language_info": {
   "codemirror_mode": {
    "name": "ipython",
    "version": 3
   },
   "file_extension": ".py",
   "mimetype": "text/x-python",
   "name": "python",
   "nbconvert_exporter": "python",
   "pygments_lexer": "ipython3",
   "version": "3.7.4"
  },
  "toc": {
   "base_numbering": 1,
   "nav_menu": {},
   "number_sections": true,
   "sideBar": true,
   "skip_h1_title": false,
   "title_cell": "Table of Contents",
   "title_sidebar": "Contents",
   "toc_cell": false,
   "toc_position": {},
   "toc_section_display": true,
   "toc_window_display": false
  }
 },
 "nbformat": 4,
 "nbformat_minor": 2
}
